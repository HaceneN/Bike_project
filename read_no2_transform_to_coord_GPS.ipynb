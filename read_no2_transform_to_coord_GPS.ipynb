{
 "cells": [
  {
   "cell_type": "markdown",
   "metadata": {},
   "source": [
    "### Import data"
   ]
  },
  {
   "cell_type": "code",
   "execution_count": 1,
   "metadata": {},
   "outputs": [
    {
     "name": "stdout",
     "output_type": "stream",
     "text": [
      "time: 448 µs\n"
     ]
    }
   ],
   "source": [
    "#!pip install ipython-autotime \n",
    "%load_ext autotime"
   ]
  },
  {
   "cell_type": "code",
   "execution_count": 2,
   "metadata": {},
   "outputs": [
    {
     "name": "stdout",
     "output_type": "stream",
     "text": [
      "time: 199 ms\n"
     ]
    }
   ],
   "source": [
    "import pandas as pd\n",
    "import warnings\n",
    "warnings.simplefilter(action='ignore', category=FutureWarning)\n"
   ]
  },
  {
   "cell_type": "code",
   "execution_count": 3,
   "metadata": {},
   "outputs": [
    {
     "name": "stdout",
     "output_type": "stream",
     "text": [
      "time: 760 ms\n"
     ]
    }
   ],
   "source": [
    "file= pd.read_csv(\"/home/fitec/00-Fitec_Formation/Projet_Fil_Rouge_Groupe1_Bike_Paris/03-Donnees_batch/mes_idf_horaire_no2.csv\",encoding= 'unicode_escape',delimiter=\",\",parse_dates=True)"
   ]
  },
  {
   "cell_type": "code",
   "execution_count": 4,
   "metadata": {},
   "outputs": [
    {
     "data": {
      "text/html": [
       "<div>\n",
       "<style scoped>\n",
       "    .dataframe tbody tr th:only-of-type {\n",
       "        vertical-align: middle;\n",
       "    }\n",
       "\n",
       "    .dataframe tbody tr th {\n",
       "        vertical-align: top;\n",
       "    }\n",
       "\n",
       "    .dataframe thead th {\n",
       "        text-align: right;\n",
       "    }\n",
       "</style>\n",
       "<table border=\"1\" class=\"dataframe\">\n",
       "  <thead>\n",
       "    <tr style=\"text-align: right;\">\n",
       "      <th></th>\n",
       "      <th>ï»¿id</th>\n",
       "      <th>nom_dept</th>\n",
       "      <th>nom_com</th>\n",
       "      <th>id_com</th>\n",
       "      <th>nom_station</th>\n",
       "      <th>code_station_ue</th>\n",
       "      <th>typologie</th>\n",
       "      <th>nom_poll</th>\n",
       "      <th>id_poll_ue</th>\n",
       "      <th>valeur</th>\n",
       "      <th>unite</th>\n",
       "      <th>metrique</th>\n",
       "      <th>date_debut</th>\n",
       "      <th>date_fin</th>\n",
       "      <th>statut_valid</th>\n",
       "      <th>x</th>\n",
       "      <th>y</th>\n",
       "    </tr>\n",
       "  </thead>\n",
       "  <tbody>\n",
       "    <tr>\n",
       "      <th>0</th>\n",
       "      <td>1</td>\n",
       "      <td>PARIS</td>\n",
       "      <td>PARIS-6E-ARRONDISSEMENT</td>\n",
       "      <td>75106</td>\n",
       "      <td>Rue Bonaparte</td>\n",
       "      <td>4071</td>\n",
       "      <td>Trafic</td>\n",
       "      <td>NO2</td>\n",
       "      <td>8</td>\n",
       "      <td>73.0</td>\n",
       "      <td>ug.m-3</td>\n",
       "      <td>horaire</td>\n",
       "      <td>2017/09/18 16:00:00+00</td>\n",
       "      <td>2017/09/18 17:00:00+00</td>\n",
       "      <td>1</td>\n",
       "      <td>651166</td>\n",
       "      <td>6862011</td>\n",
       "    </tr>\n",
       "    <tr>\n",
       "      <th>1</th>\n",
       "      <td>2</td>\n",
       "      <td>PARIS</td>\n",
       "      <td>PARIS-6E-ARRONDISSEMENT</td>\n",
       "      <td>75106</td>\n",
       "      <td>Rue Bonaparte</td>\n",
       "      <td>4071</td>\n",
       "      <td>Trafic</td>\n",
       "      <td>NO2</td>\n",
       "      <td>8</td>\n",
       "      <td>57.0</td>\n",
       "      <td>ug.m-3</td>\n",
       "      <td>horaire</td>\n",
       "      <td>2017/09/18 17:00:00+00</td>\n",
       "      <td>2017/09/18 18:00:00+00</td>\n",
       "      <td>1</td>\n",
       "      <td>651166</td>\n",
       "      <td>6862011</td>\n",
       "    </tr>\n",
       "    <tr>\n",
       "      <th>2</th>\n",
       "      <td>3</td>\n",
       "      <td>PARIS</td>\n",
       "      <td>PARIS-6E-ARRONDISSEMENT</td>\n",
       "      <td>75106</td>\n",
       "      <td>Rue Bonaparte</td>\n",
       "      <td>4071</td>\n",
       "      <td>Trafic</td>\n",
       "      <td>NO2</td>\n",
       "      <td>8</td>\n",
       "      <td>65.0</td>\n",
       "      <td>ug.m-3</td>\n",
       "      <td>horaire</td>\n",
       "      <td>2017/09/18 18:00:00+00</td>\n",
       "      <td>2017/09/18 19:00:00+00</td>\n",
       "      <td>1</td>\n",
       "      <td>651166</td>\n",
       "      <td>6862011</td>\n",
       "    </tr>\n",
       "    <tr>\n",
       "      <th>3</th>\n",
       "      <td>4</td>\n",
       "      <td>PARIS</td>\n",
       "      <td>PARIS-6E-ARRONDISSEMENT</td>\n",
       "      <td>75106</td>\n",
       "      <td>Rue Bonaparte</td>\n",
       "      <td>4071</td>\n",
       "      <td>Trafic</td>\n",
       "      <td>NO2</td>\n",
       "      <td>8</td>\n",
       "      <td>81.0</td>\n",
       "      <td>ug.m-3</td>\n",
       "      <td>horaire</td>\n",
       "      <td>2017/09/18 19:00:00+00</td>\n",
       "      <td>2017/09/18 20:00:00+00</td>\n",
       "      <td>1</td>\n",
       "      <td>651166</td>\n",
       "      <td>6862011</td>\n",
       "    </tr>\n",
       "    <tr>\n",
       "      <th>4</th>\n",
       "      <td>5</td>\n",
       "      <td>PARIS</td>\n",
       "      <td>PARIS-6E-ARRONDISSEMENT</td>\n",
       "      <td>75106</td>\n",
       "      <td>Rue Bonaparte</td>\n",
       "      <td>4071</td>\n",
       "      <td>Trafic</td>\n",
       "      <td>NO2</td>\n",
       "      <td>8</td>\n",
       "      <td>74.0</td>\n",
       "      <td>ug.m-3</td>\n",
       "      <td>horaire</td>\n",
       "      <td>2017/09/18 20:00:00+00</td>\n",
       "      <td>2017/09/18 21:00:00+00</td>\n",
       "      <td>1</td>\n",
       "      <td>651166</td>\n",
       "      <td>6862011</td>\n",
       "    </tr>\n",
       "  </tbody>\n",
       "</table>\n",
       "</div>"
      ],
      "text/plain": [
       "   ï»¿id nom_dept                  nom_com  id_com    nom_station  \\\n",
       "0      1    PARIS  PARIS-6E-ARRONDISSEMENT   75106  Rue Bonaparte   \n",
       "1      2    PARIS  PARIS-6E-ARRONDISSEMENT   75106  Rue Bonaparte   \n",
       "2      3    PARIS  PARIS-6E-ARRONDISSEMENT   75106  Rue Bonaparte   \n",
       "3      4    PARIS  PARIS-6E-ARRONDISSEMENT   75106  Rue Bonaparte   \n",
       "4      5    PARIS  PARIS-6E-ARRONDISSEMENT   75106  Rue Bonaparte   \n",
       "\n",
       "   code_station_ue typologie nom_poll  id_poll_ue  valeur   unite metrique  \\\n",
       "0             4071    Trafic      NO2           8    73.0  ug.m-3  horaire   \n",
       "1             4071    Trafic      NO2           8    57.0  ug.m-3  horaire   \n",
       "2             4071    Trafic      NO2           8    65.0  ug.m-3  horaire   \n",
       "3             4071    Trafic      NO2           8    81.0  ug.m-3  horaire   \n",
       "4             4071    Trafic      NO2           8    74.0  ug.m-3  horaire   \n",
       "\n",
       "               date_debut                date_fin  statut_valid       x  \\\n",
       "0  2017/09/18 16:00:00+00  2017/09/18 17:00:00+00             1  651166   \n",
       "1  2017/09/18 17:00:00+00  2017/09/18 18:00:00+00             1  651166   \n",
       "2  2017/09/18 18:00:00+00  2017/09/18 19:00:00+00             1  651166   \n",
       "3  2017/09/18 19:00:00+00  2017/09/18 20:00:00+00             1  651166   \n",
       "4  2017/09/18 20:00:00+00  2017/09/18 21:00:00+00             1  651166   \n",
       "\n",
       "         y  \n",
       "0  6862011  \n",
       "1  6862011  \n",
       "2  6862011  \n",
       "3  6862011  \n",
       "4  6862011  "
      ]
     },
     "execution_count": 4,
     "metadata": {},
     "output_type": "execute_result"
    },
    {
     "name": "stdout",
     "output_type": "stream",
     "text": [
      "time: 18.1 ms\n"
     ]
    }
   ],
   "source": [
    "file.head()"
   ]
  },
  {
   "cell_type": "code",
   "execution_count": 5,
   "metadata": {},
   "outputs": [
    {
     "data": {
      "text/plain": [
       "ï»¿id              0\n",
       "nom_dept           0\n",
       "nom_com            0\n",
       "id_com             0\n",
       "nom_station        0\n",
       "code_station_ue    0\n",
       "typologie          0\n",
       "nom_poll           0\n",
       "id_poll_ue         0\n",
       "valeur             0\n",
       "unite              0\n",
       "metrique           0\n",
       "date_debut         0\n",
       "date_fin           0\n",
       "statut_valid       0\n",
       "x                  0\n",
       "y                  0\n",
       "dtype: int64"
      ]
     },
     "execution_count": 5,
     "metadata": {},
     "output_type": "execute_result"
    },
    {
     "name": "stdout",
     "output_type": "stream",
     "text": [
      "time: 110 ms\n"
     ]
    }
   ],
   "source": [
    "file.isnull().sum()"
   ]
  },
  {
   "cell_type": "code",
   "execution_count": null,
   "metadata": {},
   "outputs": [],
   "source": []
  },
  {
   "cell_type": "markdown",
   "metadata": {},
   "source": [
    "### select columns"
   ]
  },
  {
   "cell_type": "code",
   "execution_count": 6,
   "metadata": {},
   "outputs": [
    {
     "data": {
      "text/html": [
       "<div>\n",
       "<style scoped>\n",
       "    .dataframe tbody tr th:only-of-type {\n",
       "        vertical-align: middle;\n",
       "    }\n",
       "\n",
       "    .dataframe tbody tr th {\n",
       "        vertical-align: top;\n",
       "    }\n",
       "\n",
       "    .dataframe thead th {\n",
       "        text-align: right;\n",
       "    }\n",
       "</style>\n",
       "<table border=\"1\" class=\"dataframe\">\n",
       "  <thead>\n",
       "    <tr style=\"text-align: right;\">\n",
       "      <th></th>\n",
       "      <th>nom_dept</th>\n",
       "      <th>nom_com</th>\n",
       "      <th>id_com</th>\n",
       "      <th>nom_station</th>\n",
       "      <th>code_station_ue</th>\n",
       "      <th>valeur</th>\n",
       "      <th>unite</th>\n",
       "      <th>date_fin</th>\n",
       "      <th>statut_valid</th>\n",
       "      <th>x</th>\n",
       "      <th>y</th>\n",
       "    </tr>\n",
       "  </thead>\n",
       "  <tbody>\n",
       "    <tr>\n",
       "      <th>414617</th>\n",
       "      <td>HAUTS-DE-SEINE</td>\n",
       "      <td>GENNEVILLIERS</td>\n",
       "      <td>92036</td>\n",
       "      <td>GENNEVILLIERS</td>\n",
       "      <td>4002</td>\n",
       "      <td>26.9</td>\n",
       "      <td>ug.m-3</td>\n",
       "      <td>2020/12/14 07:00:00+00</td>\n",
       "      <td>1</td>\n",
       "      <td>648292</td>\n",
       "      <td>6870262</td>\n",
       "    </tr>\n",
       "    <tr>\n",
       "      <th>414618</th>\n",
       "      <td>HAUTS-DE-SEINE</td>\n",
       "      <td>GENNEVILLIERS</td>\n",
       "      <td>92036</td>\n",
       "      <td>GENNEVILLIERS</td>\n",
       "      <td>4002</td>\n",
       "      <td>29.0</td>\n",
       "      <td>ug.m-3</td>\n",
       "      <td>2020/12/14 08:00:00+00</td>\n",
       "      <td>1</td>\n",
       "      <td>648292</td>\n",
       "      <td>6870262</td>\n",
       "    </tr>\n",
       "    <tr>\n",
       "      <th>414619</th>\n",
       "      <td>HAUTS-DE-SEINE</td>\n",
       "      <td>GENNEVILLIERS</td>\n",
       "      <td>92036</td>\n",
       "      <td>GENNEVILLIERS</td>\n",
       "      <td>4002</td>\n",
       "      <td>23.9</td>\n",
       "      <td>ug.m-3</td>\n",
       "      <td>2020/12/14 09:00:00+00</td>\n",
       "      <td>1</td>\n",
       "      <td>648292</td>\n",
       "      <td>6870262</td>\n",
       "    </tr>\n",
       "    <tr>\n",
       "      <th>414620</th>\n",
       "      <td>HAUTS-DE-SEINE</td>\n",
       "      <td>GENNEVILLIERS</td>\n",
       "      <td>92036</td>\n",
       "      <td>GENNEVILLIERS</td>\n",
       "      <td>4002</td>\n",
       "      <td>26.4</td>\n",
       "      <td>ug.m-3</td>\n",
       "      <td>2020/12/14 10:00:00+00</td>\n",
       "      <td>1</td>\n",
       "      <td>648292</td>\n",
       "      <td>6870262</td>\n",
       "    </tr>\n",
       "    <tr>\n",
       "      <th>414621</th>\n",
       "      <td>HAUTS-DE-SEINE</td>\n",
       "      <td>GENNEVILLIERS</td>\n",
       "      <td>92036</td>\n",
       "      <td>GENNEVILLIERS</td>\n",
       "      <td>4002</td>\n",
       "      <td>28.8</td>\n",
       "      <td>ug.m-3</td>\n",
       "      <td>2020/12/14 11:00:00+00</td>\n",
       "      <td>1</td>\n",
       "      <td>648292</td>\n",
       "      <td>6870262</td>\n",
       "    </tr>\n",
       "  </tbody>\n",
       "</table>\n",
       "</div>"
      ],
      "text/plain": [
       "              nom_dept        nom_com  id_com    nom_station  code_station_ue  \\\n",
       "414617  HAUTS-DE-SEINE  GENNEVILLIERS   92036  GENNEVILLIERS             4002   \n",
       "414618  HAUTS-DE-SEINE  GENNEVILLIERS   92036  GENNEVILLIERS             4002   \n",
       "414619  HAUTS-DE-SEINE  GENNEVILLIERS   92036  GENNEVILLIERS             4002   \n",
       "414620  HAUTS-DE-SEINE  GENNEVILLIERS   92036  GENNEVILLIERS             4002   \n",
       "414621  HAUTS-DE-SEINE  GENNEVILLIERS   92036  GENNEVILLIERS             4002   \n",
       "\n",
       "        valeur   unite                date_fin  statut_valid       x        y  \n",
       "414617    26.9  ug.m-3  2020/12/14 07:00:00+00             1  648292  6870262  \n",
       "414618    29.0  ug.m-3  2020/12/14 08:00:00+00             1  648292  6870262  \n",
       "414619    23.9  ug.m-3  2020/12/14 09:00:00+00             1  648292  6870262  \n",
       "414620    26.4  ug.m-3  2020/12/14 10:00:00+00             1  648292  6870262  \n",
       "414621    28.8  ug.m-3  2020/12/14 11:00:00+00             1  648292  6870262  "
      ]
     },
     "execution_count": 6,
     "metadata": {},
     "output_type": "execute_result"
    },
    {
     "name": "stdout",
     "output_type": "stream",
     "text": [
      "time: 22.4 ms\n"
     ]
    }
   ],
   "source": [
    "file_no2=file[[\"nom_dept\",\"nom_com\",\"id_com\",\"nom_station\",\"code_station_ue\",\"valeur\",\"unite\",\"date_fin\",\"statut_valid\",\"x\",\"y\"]]\n",
    "file_no2.tail()"
   ]
  },
  {
   "cell_type": "code",
   "execution_count": 7,
   "metadata": {},
   "outputs": [
    {
     "data": {
      "text/plain": [
       "nom_dept           414622\n",
       "nom_com            414622\n",
       "id_com             414622\n",
       "nom_station        414622\n",
       "code_station_ue    414622\n",
       "valeur             414622\n",
       "unite              414622\n",
       "date_fin           414622\n",
       "statut_valid       414622\n",
       "x                  414622\n",
       "y                  414622\n",
       "dtype: int64"
      ]
     },
     "execution_count": 7,
     "metadata": {},
     "output_type": "execute_result"
    },
    {
     "name": "stdout",
     "output_type": "stream",
     "text": [
      "time: 67.3 ms\n"
     ]
    }
   ],
   "source": [
    "file_no2.count()"
   ]
  },
  {
   "cell_type": "markdown",
   "metadata": {},
   "source": [
    "### Show district"
   ]
  },
  {
   "cell_type": "code",
   "execution_count": 8,
   "metadata": {},
   "outputs": [
    {
     "data": {
      "text/plain": [
       "78646    27225\n",
       "94081    26961\n",
       "77258    26955\n",
       "95088    26904\n",
       "95277    26904\n",
       "93073    26872\n",
       "95633    26832\n",
       "95612    26808\n",
       "92036    26732\n",
       "75106    26598\n",
       "75112    26408\n",
       "91228    26285\n",
       "93066    26057\n",
       "75115    25188\n",
       "75102    25123\n",
       "75104    16770\n",
       "Name: id_com, dtype: int64"
      ]
     },
     "execution_count": 8,
     "metadata": {},
     "output_type": "execute_result"
    },
    {
     "name": "stdout",
     "output_type": "stream",
     "text": [
      "time: 3.92 ms\n"
     ]
    }
   ],
   "source": [
    "file_no2[\"id_com\"].value_counts()"
   ]
  },
  {
   "cell_type": "code",
   "execution_count": 9,
   "metadata": {},
   "outputs": [
    {
     "data": {
      "text/plain": [
       "PARIS                120087\n",
       "VAL-D'OISE           107448\n",
       "SEINE-SAINT-DENIS     52929\n",
       "YVELINES              27225\n",
       "VAL-DE-MARNE          26961\n",
       "SEINE-ET-MARNE        26955\n",
       "HAUTS-DE-SEINE        26732\n",
       "ESSONNE               26285\n",
       "Name: nom_dept, dtype: int64"
      ]
     },
     "execution_count": 9,
     "metadata": {},
     "output_type": "execute_result"
    },
    {
     "name": "stdout",
     "output_type": "stream",
     "text": [
      "time: 40.9 ms\n"
     ]
    }
   ],
   "source": [
    "file_no2[\"nom_dept\"].value_counts()"
   ]
  },
  {
   "cell_type": "code",
   "execution_count": 10,
   "metadata": {},
   "outputs": [
    {
     "data": {
      "text/plain": [
       "2019/03/04 10:00:00+00    32\n",
       "2019/09/18 09:00:00+00    32\n",
       "2018/10/22 09:00:00+00    32\n",
       "2019/01/14 11:00:00+00    32\n",
       "2019/03/28 10:00:00+00    32\n",
       "                          ..\n",
       "2019/07/19 05:00:00+00     1\n",
       "2019/07/19 03:00:00+00     1\n",
       "2020/08/23 21:00:00+00     1\n",
       "2019/07/18 19:00:00+00     1\n",
       "2019/07/19 01:00:00+00     1\n",
       "Name: date_fin, Length: 26535, dtype: int64"
      ]
     },
     "execution_count": 10,
     "metadata": {},
     "output_type": "execute_result"
    },
    {
     "name": "stdout",
     "output_type": "stream",
     "text": [
      "time: 52 ms\n"
     ]
    }
   ],
   "source": [
    "file[\"date_fin\"].value_counts()"
   ]
  },
  {
   "cell_type": "markdown",
   "metadata": {},
   "source": [
    "### Select Paris districs"
   ]
  },
  {
   "cell_type": "code",
   "execution_count": 11,
   "metadata": {},
   "outputs": [
    {
     "name": "stdout",
     "output_type": "stream",
     "text": [
      "time: 29.4 ms\n"
     ]
    }
   ],
   "source": [
    "df=file_no2[file_no2[\"nom_dept\"]==\"PARIS\"]"
   ]
  },
  {
   "cell_type": "code",
   "execution_count": 12,
   "metadata": {},
   "outputs": [
    {
     "data": {
      "text/plain": [
       "PARIS    120087\n",
       "Name: nom_dept, dtype: int64"
      ]
     },
     "execution_count": 12,
     "metadata": {},
     "output_type": "execute_result"
    },
    {
     "name": "stdout",
     "output_type": "stream",
     "text": [
      "time: 12.8 ms\n"
     ]
    }
   ],
   "source": [
    "df[\"nom_dept\"].value_counts()"
   ]
  },
  {
   "cell_type": "code",
   "execution_count": 13,
   "metadata": {},
   "outputs": [
    {
     "data": {
      "text/plain": [
       "75106    26598\n",
       "75112    26408\n",
       "75115    25188\n",
       "75102    25123\n",
       "75104    16770\n",
       "Name: id_com, dtype: int64"
      ]
     },
     "execution_count": 13,
     "metadata": {},
     "output_type": "execute_result"
    },
    {
     "name": "stdout",
     "output_type": "stream",
     "text": [
      "time: 4.6 ms\n"
     ]
    }
   ],
   "source": [
    "df[\"id_com\"].value_counts()"
   ]
  },
  {
   "cell_type": "code",
   "execution_count": 14,
   "metadata": {},
   "outputs": [
    {
     "data": {
      "text/html": [
       "<div>\n",
       "<style scoped>\n",
       "    .dataframe tbody tr th:only-of-type {\n",
       "        vertical-align: middle;\n",
       "    }\n",
       "\n",
       "    .dataframe tbody tr th {\n",
       "        vertical-align: top;\n",
       "    }\n",
       "\n",
       "    .dataframe thead th {\n",
       "        text-align: right;\n",
       "    }\n",
       "</style>\n",
       "<table border=\"1\" class=\"dataframe\">\n",
       "  <thead>\n",
       "    <tr style=\"text-align: right;\">\n",
       "      <th></th>\n",
       "      <th>nom_dept</th>\n",
       "      <th>nom_com</th>\n",
       "      <th>id_com</th>\n",
       "      <th>nom_station</th>\n",
       "      <th>code_station_ue</th>\n",
       "      <th>valeur</th>\n",
       "      <th>unite</th>\n",
       "      <th>date_fin</th>\n",
       "      <th>statut_valid</th>\n",
       "      <th>x</th>\n",
       "      <th>y</th>\n",
       "    </tr>\n",
       "  </thead>\n",
       "  <tbody>\n",
       "    <tr>\n",
       "      <th>414567</th>\n",
       "      <td>PARIS</td>\n",
       "      <td>PARIS-15E-ARRONDISSEMENT</td>\n",
       "      <td>75115</td>\n",
       "      <td>PARIS stade Lenglen</td>\n",
       "      <td>4179</td>\n",
       "      <td>10.4</td>\n",
       "      <td>ug.m-3</td>\n",
       "      <td>2020/12/14 06:00:00+00</td>\n",
       "      <td>1</td>\n",
       "      <td>646401</td>\n",
       "      <td>6859173</td>\n",
       "    </tr>\n",
       "    <tr>\n",
       "      <th>414568</th>\n",
       "      <td>PARIS</td>\n",
       "      <td>PARIS-15E-ARRONDISSEMENT</td>\n",
       "      <td>75115</td>\n",
       "      <td>PARIS stade Lenglen</td>\n",
       "      <td>4179</td>\n",
       "      <td>17.8</td>\n",
       "      <td>ug.m-3</td>\n",
       "      <td>2020/12/14 07:00:00+00</td>\n",
       "      <td>1</td>\n",
       "      <td>646401</td>\n",
       "      <td>6859173</td>\n",
       "    </tr>\n",
       "    <tr>\n",
       "      <th>414569</th>\n",
       "      <td>PARIS</td>\n",
       "      <td>PARIS-15E-ARRONDISSEMENT</td>\n",
       "      <td>75115</td>\n",
       "      <td>PARIS stade Lenglen</td>\n",
       "      <td>4179</td>\n",
       "      <td>23.1</td>\n",
       "      <td>ug.m-3</td>\n",
       "      <td>2020/12/14 08:00:00+00</td>\n",
       "      <td>1</td>\n",
       "      <td>646401</td>\n",
       "      <td>6859173</td>\n",
       "    </tr>\n",
       "    <tr>\n",
       "      <th>414570</th>\n",
       "      <td>PARIS</td>\n",
       "      <td>PARIS-15E-ARRONDISSEMENT</td>\n",
       "      <td>75115</td>\n",
       "      <td>PARIS stade Lenglen</td>\n",
       "      <td>4179</td>\n",
       "      <td>27.0</td>\n",
       "      <td>ug.m-3</td>\n",
       "      <td>2020/12/14 09:00:00+00</td>\n",
       "      <td>1</td>\n",
       "      <td>646401</td>\n",
       "      <td>6859173</td>\n",
       "    </tr>\n",
       "    <tr>\n",
       "      <th>414571</th>\n",
       "      <td>PARIS</td>\n",
       "      <td>PARIS-15E-ARRONDISSEMENT</td>\n",
       "      <td>75115</td>\n",
       "      <td>PARIS stade Lenglen</td>\n",
       "      <td>4179</td>\n",
       "      <td>23.7</td>\n",
       "      <td>ug.m-3</td>\n",
       "      <td>2020/12/14 10:00:00+00</td>\n",
       "      <td>1</td>\n",
       "      <td>646401</td>\n",
       "      <td>6859173</td>\n",
       "    </tr>\n",
       "  </tbody>\n",
       "</table>\n",
       "</div>"
      ],
      "text/plain": [
       "       nom_dept                   nom_com  id_com          nom_station  \\\n",
       "414567    PARIS  PARIS-15E-ARRONDISSEMENT   75115  PARIS stade Lenglen   \n",
       "414568    PARIS  PARIS-15E-ARRONDISSEMENT   75115  PARIS stade Lenglen   \n",
       "414569    PARIS  PARIS-15E-ARRONDISSEMENT   75115  PARIS stade Lenglen   \n",
       "414570    PARIS  PARIS-15E-ARRONDISSEMENT   75115  PARIS stade Lenglen   \n",
       "414571    PARIS  PARIS-15E-ARRONDISSEMENT   75115  PARIS stade Lenglen   \n",
       "\n",
       "        code_station_ue  valeur   unite                date_fin  statut_valid  \\\n",
       "414567             4179    10.4  ug.m-3  2020/12/14 06:00:00+00             1   \n",
       "414568             4179    17.8  ug.m-3  2020/12/14 07:00:00+00             1   \n",
       "414569             4179    23.1  ug.m-3  2020/12/14 08:00:00+00             1   \n",
       "414570             4179    27.0  ug.m-3  2020/12/14 09:00:00+00             1   \n",
       "414571             4179    23.7  ug.m-3  2020/12/14 10:00:00+00             1   \n",
       "\n",
       "             x        y  \n",
       "414567  646401  6859173  \n",
       "414568  646401  6859173  \n",
       "414569  646401  6859173  \n",
       "414570  646401  6859173  \n",
       "414571  646401  6859173  "
      ]
     },
     "execution_count": 14,
     "metadata": {},
     "output_type": "execute_result"
    },
    {
     "name": "stdout",
     "output_type": "stream",
     "text": [
      "time: 8.21 ms\n"
     ]
    }
   ],
   "source": [
    "df.tail()"
   ]
  },
  {
   "cell_type": "markdown",
   "metadata": {},
   "source": [
    "### Rename columns"
   ]
  },
  {
   "cell_type": "code",
   "execution_count": 15,
   "metadata": {},
   "outputs": [
    {
     "data": {
      "text/html": [
       "<div>\n",
       "<style scoped>\n",
       "    .dataframe tbody tr th:only-of-type {\n",
       "        vertical-align: middle;\n",
       "    }\n",
       "\n",
       "    .dataframe tbody tr th {\n",
       "        vertical-align: top;\n",
       "    }\n",
       "\n",
       "    .dataframe thead th {\n",
       "        text-align: right;\n",
       "    }\n",
       "</style>\n",
       "<table border=\"1\" class=\"dataframe\">\n",
       "  <thead>\n",
       "    <tr style=\"text-align: right;\">\n",
       "      <th></th>\n",
       "      <th>id_com</th>\n",
       "      <th>valeur</th>\n",
       "      <th>unite</th>\n",
       "      <th>date_fin</th>\n",
       "      <th>statut_valid</th>\n",
       "      <th>x</th>\n",
       "      <th>y</th>\n",
       "    </tr>\n",
       "  </thead>\n",
       "  <tbody>\n",
       "    <tr>\n",
       "      <th>414567</th>\n",
       "      <td>75115</td>\n",
       "      <td>10.4</td>\n",
       "      <td>ug.m-3</td>\n",
       "      <td>2020/12/14 06:00:00+00</td>\n",
       "      <td>1</td>\n",
       "      <td>646401</td>\n",
       "      <td>6859173</td>\n",
       "    </tr>\n",
       "    <tr>\n",
       "      <th>414568</th>\n",
       "      <td>75115</td>\n",
       "      <td>17.8</td>\n",
       "      <td>ug.m-3</td>\n",
       "      <td>2020/12/14 07:00:00+00</td>\n",
       "      <td>1</td>\n",
       "      <td>646401</td>\n",
       "      <td>6859173</td>\n",
       "    </tr>\n",
       "    <tr>\n",
       "      <th>414569</th>\n",
       "      <td>75115</td>\n",
       "      <td>23.1</td>\n",
       "      <td>ug.m-3</td>\n",
       "      <td>2020/12/14 08:00:00+00</td>\n",
       "      <td>1</td>\n",
       "      <td>646401</td>\n",
       "      <td>6859173</td>\n",
       "    </tr>\n",
       "    <tr>\n",
       "      <th>414570</th>\n",
       "      <td>75115</td>\n",
       "      <td>27.0</td>\n",
       "      <td>ug.m-3</td>\n",
       "      <td>2020/12/14 09:00:00+00</td>\n",
       "      <td>1</td>\n",
       "      <td>646401</td>\n",
       "      <td>6859173</td>\n",
       "    </tr>\n",
       "    <tr>\n",
       "      <th>414571</th>\n",
       "      <td>75115</td>\n",
       "      <td>23.7</td>\n",
       "      <td>ug.m-3</td>\n",
       "      <td>2020/12/14 10:00:00+00</td>\n",
       "      <td>1</td>\n",
       "      <td>646401</td>\n",
       "      <td>6859173</td>\n",
       "    </tr>\n",
       "  </tbody>\n",
       "</table>\n",
       "</div>"
      ],
      "text/plain": [
       "        id_com  valeur   unite                date_fin  statut_valid       x  \\\n",
       "414567   75115    10.4  ug.m-3  2020/12/14 06:00:00+00             1  646401   \n",
       "414568   75115    17.8  ug.m-3  2020/12/14 07:00:00+00             1  646401   \n",
       "414569   75115    23.1  ug.m-3  2020/12/14 08:00:00+00             1  646401   \n",
       "414570   75115    27.0  ug.m-3  2020/12/14 09:00:00+00             1  646401   \n",
       "414571   75115    23.7  ug.m-3  2020/12/14 10:00:00+00             1  646401   \n",
       "\n",
       "              y  \n",
       "414567  6859173  \n",
       "414568  6859173  \n",
       "414569  6859173  \n",
       "414570  6859173  \n",
       "414571  6859173  "
      ]
     },
     "execution_count": 15,
     "metadata": {},
     "output_type": "execute_result"
    },
    {
     "name": "stdout",
     "output_type": "stream",
     "text": [
      "time: 10.4 ms\n"
     ]
    }
   ],
   "source": [
    "df2=df[[\"id_com\",\"valeur\",\"unite\",\"date_fin\",\"statut_valid\",\"x\",\"y\"]]\n",
    "df2.tail()"
   ]
  },
  {
   "cell_type": "code",
   "execution_count": 16,
   "metadata": {},
   "outputs": [
    {
     "name": "stdout",
     "output_type": "stream",
     "text": [
      "time: 634 µs\n"
     ]
    }
   ],
   "source": [
    "df2.columns=([\"zip_code\",\"no2\",\"unite\",\"date\",\"statut_valid\",\"x\",\"y\"])"
   ]
  },
  {
   "cell_type": "code",
   "execution_count": 17,
   "metadata": {},
   "outputs": [
    {
     "name": "stdout",
     "output_type": "stream",
     "text": [
      "zip_code          int64\n",
      "no2             float64\n",
      "unite            object\n",
      "date             object\n",
      "statut_valid      int64\n",
      "x                 int64\n",
      "y                 int64\n",
      "dtype: object\n",
      "zip_code          int64\n",
      "no2             float64\n",
      "unite            object\n",
      "date             object\n",
      "statut_valid      int64\n",
      "x               float64\n",
      "y               float64\n",
      "dtype: object\n"
     ]
    },
    {
     "name": "stderr",
     "output_type": "stream",
     "text": [
      "/home/fitec/anaconda3/envs/adata3/lib/python3.7/site-packages/pandas/core/frame.py:3065: SettingWithCopyWarning: \n",
      "A value is trying to be set on a copy of a slice from a DataFrame.\n",
      "Try using .loc[row_indexer,col_indexer] = value instead\n",
      "\n",
      "See the caveats in the documentation: https://pandas.pydata.org/pandas-docs/stable/user_guide/indexing.html#returning-a-view-versus-a-copy\n",
      "  self[k1] = value[k2]\n"
     ]
    },
    {
     "data": {
      "text/html": [
       "<div>\n",
       "<style scoped>\n",
       "    .dataframe tbody tr th:only-of-type {\n",
       "        vertical-align: middle;\n",
       "    }\n",
       "\n",
       "    .dataframe tbody tr th {\n",
       "        vertical-align: top;\n",
       "    }\n",
       "\n",
       "    .dataframe thead th {\n",
       "        text-align: right;\n",
       "    }\n",
       "</style>\n",
       "<table border=\"1\" class=\"dataframe\">\n",
       "  <thead>\n",
       "    <tr style=\"text-align: right;\">\n",
       "      <th></th>\n",
       "      <th>zip_code</th>\n",
       "      <th>no2</th>\n",
       "      <th>unite</th>\n",
       "      <th>date</th>\n",
       "      <th>statut_valid</th>\n",
       "      <th>x</th>\n",
       "      <th>y</th>\n",
       "    </tr>\n",
       "  </thead>\n",
       "  <tbody>\n",
       "    <tr>\n",
       "      <th>414567</th>\n",
       "      <td>75115</td>\n",
       "      <td>10.4</td>\n",
       "      <td>ug.m-3</td>\n",
       "      <td>2020/12/14 06:00:00+00</td>\n",
       "      <td>1</td>\n",
       "      <td>646401.0</td>\n",
       "      <td>6859173.0</td>\n",
       "    </tr>\n",
       "    <tr>\n",
       "      <th>414568</th>\n",
       "      <td>75115</td>\n",
       "      <td>17.8</td>\n",
       "      <td>ug.m-3</td>\n",
       "      <td>2020/12/14 07:00:00+00</td>\n",
       "      <td>1</td>\n",
       "      <td>646401.0</td>\n",
       "      <td>6859173.0</td>\n",
       "    </tr>\n",
       "    <tr>\n",
       "      <th>414569</th>\n",
       "      <td>75115</td>\n",
       "      <td>23.1</td>\n",
       "      <td>ug.m-3</td>\n",
       "      <td>2020/12/14 08:00:00+00</td>\n",
       "      <td>1</td>\n",
       "      <td>646401.0</td>\n",
       "      <td>6859173.0</td>\n",
       "    </tr>\n",
       "    <tr>\n",
       "      <th>414570</th>\n",
       "      <td>75115</td>\n",
       "      <td>27.0</td>\n",
       "      <td>ug.m-3</td>\n",
       "      <td>2020/12/14 09:00:00+00</td>\n",
       "      <td>1</td>\n",
       "      <td>646401.0</td>\n",
       "      <td>6859173.0</td>\n",
       "    </tr>\n",
       "    <tr>\n",
       "      <th>414571</th>\n",
       "      <td>75115</td>\n",
       "      <td>23.7</td>\n",
       "      <td>ug.m-3</td>\n",
       "      <td>2020/12/14 10:00:00+00</td>\n",
       "      <td>1</td>\n",
       "      <td>646401.0</td>\n",
       "      <td>6859173.0</td>\n",
       "    </tr>\n",
       "  </tbody>\n",
       "</table>\n",
       "</div>"
      ],
      "text/plain": [
       "        zip_code   no2   unite                    date  statut_valid  \\\n",
       "414567     75115  10.4  ug.m-3  2020/12/14 06:00:00+00             1   \n",
       "414568     75115  17.8  ug.m-3  2020/12/14 07:00:00+00             1   \n",
       "414569     75115  23.1  ug.m-3  2020/12/14 08:00:00+00             1   \n",
       "414570     75115  27.0  ug.m-3  2020/12/14 09:00:00+00             1   \n",
       "414571     75115  23.7  ug.m-3  2020/12/14 10:00:00+00             1   \n",
       "\n",
       "               x          y  \n",
       "414567  646401.0  6859173.0  \n",
       "414568  646401.0  6859173.0  \n",
       "414569  646401.0  6859173.0  \n",
       "414570  646401.0  6859173.0  \n",
       "414571  646401.0  6859173.0  "
      ]
     },
     "execution_count": 17,
     "metadata": {},
     "output_type": "execute_result"
    },
    {
     "name": "stdout",
     "output_type": "stream",
     "text": [
      "time: 18.6 ms\n"
     ]
    }
   ],
   "source": [
    "print(df2.dtypes)\n",
    "df2[[\"x\", \"y\"]] = df2[[\"x\", \"y\"]].astype(float)\n",
    "print(df2.dtypes)\n",
    "df2.tail()"
   ]
  },
  {
   "cell_type": "code",
   "execution_count": 18,
   "metadata": {},
   "outputs": [
    {
     "name": "stdout",
     "output_type": "stream",
     "text": [
      "time: 168 µs\n"
     ]
    }
   ],
   "source": [
    "#!conda uninstall pyproj -y\n",
    "#!pip uninstall pyproj -y\n",
    "#!pip install pyproj\n"
   ]
  },
  {
   "cell_type": "code",
   "execution_count": 19,
   "metadata": {},
   "outputs": [
    {
     "data": {
      "text/html": [
       "<div>\n",
       "<style scoped>\n",
       "    .dataframe tbody tr th:only-of-type {\n",
       "        vertical-align: middle;\n",
       "    }\n",
       "\n",
       "    .dataframe tbody tr th {\n",
       "        vertical-align: top;\n",
       "    }\n",
       "\n",
       "    .dataframe thead th {\n",
       "        text-align: right;\n",
       "    }\n",
       "</style>\n",
       "<table border=\"1\" class=\"dataframe\">\n",
       "  <thead>\n",
       "    <tr style=\"text-align: right;\">\n",
       "      <th></th>\n",
       "      <th>zip_code</th>\n",
       "      <th>no2</th>\n",
       "      <th>unite</th>\n",
       "      <th>date</th>\n",
       "      <th>statut_valid</th>\n",
       "      <th>x</th>\n",
       "      <th>y</th>\n",
       "    </tr>\n",
       "  </thead>\n",
       "  <tbody>\n",
       "    <tr>\n",
       "      <th>0</th>\n",
       "      <td>75106</td>\n",
       "      <td>73.0</td>\n",
       "      <td>ug.m-3</td>\n",
       "      <td>2017/09/18 17:00:00+00</td>\n",
       "      <td>1</td>\n",
       "      <td>651166.0</td>\n",
       "      <td>6862011.0</td>\n",
       "    </tr>\n",
       "    <tr>\n",
       "      <th>1</th>\n",
       "      <td>75106</td>\n",
       "      <td>57.0</td>\n",
       "      <td>ug.m-3</td>\n",
       "      <td>2017/09/18 18:00:00+00</td>\n",
       "      <td>1</td>\n",
       "      <td>651166.0</td>\n",
       "      <td>6862011.0</td>\n",
       "    </tr>\n",
       "    <tr>\n",
       "      <th>2</th>\n",
       "      <td>75106</td>\n",
       "      <td>65.0</td>\n",
       "      <td>ug.m-3</td>\n",
       "      <td>2017/09/18 19:00:00+00</td>\n",
       "      <td>1</td>\n",
       "      <td>651166.0</td>\n",
       "      <td>6862011.0</td>\n",
       "    </tr>\n",
       "    <tr>\n",
       "      <th>3</th>\n",
       "      <td>75106</td>\n",
       "      <td>81.0</td>\n",
       "      <td>ug.m-3</td>\n",
       "      <td>2017/09/18 20:00:00+00</td>\n",
       "      <td>1</td>\n",
       "      <td>651166.0</td>\n",
       "      <td>6862011.0</td>\n",
       "    </tr>\n",
       "    <tr>\n",
       "      <th>4</th>\n",
       "      <td>75106</td>\n",
       "      <td>74.0</td>\n",
       "      <td>ug.m-3</td>\n",
       "      <td>2017/09/18 21:00:00+00</td>\n",
       "      <td>1</td>\n",
       "      <td>651166.0</td>\n",
       "      <td>6862011.0</td>\n",
       "    </tr>\n",
       "    <tr>\n",
       "      <th>5</th>\n",
       "      <td>75106</td>\n",
       "      <td>69.0</td>\n",
       "      <td>ug.m-3</td>\n",
       "      <td>2017/09/18 22:00:00+00</td>\n",
       "      <td>1</td>\n",
       "      <td>651166.0</td>\n",
       "      <td>6862011.0</td>\n",
       "    </tr>\n",
       "    <tr>\n",
       "      <th>6</th>\n",
       "      <td>75106</td>\n",
       "      <td>71.0</td>\n",
       "      <td>ug.m-3</td>\n",
       "      <td>2017/09/18 23:00:00+00</td>\n",
       "      <td>1</td>\n",
       "      <td>651166.0</td>\n",
       "      <td>6862011.0</td>\n",
       "    </tr>\n",
       "    <tr>\n",
       "      <th>7</th>\n",
       "      <td>75106</td>\n",
       "      <td>51.0</td>\n",
       "      <td>ug.m-3</td>\n",
       "      <td>2017/09/19 00:00:00+00</td>\n",
       "      <td>1</td>\n",
       "      <td>651166.0</td>\n",
       "      <td>6862011.0</td>\n",
       "    </tr>\n",
       "    <tr>\n",
       "      <th>8</th>\n",
       "      <td>75106</td>\n",
       "      <td>55.0</td>\n",
       "      <td>ug.m-3</td>\n",
       "      <td>2017/09/19 01:00:00+00</td>\n",
       "      <td>1</td>\n",
       "      <td>651166.0</td>\n",
       "      <td>6862011.0</td>\n",
       "    </tr>\n",
       "    <tr>\n",
       "      <th>9</th>\n",
       "      <td>75106</td>\n",
       "      <td>17.0</td>\n",
       "      <td>ug.m-3</td>\n",
       "      <td>2017/09/19 02:00:00+00</td>\n",
       "      <td>1</td>\n",
       "      <td>651166.0</td>\n",
       "      <td>6862011.0</td>\n",
       "    </tr>\n",
       "    <tr>\n",
       "      <th>10</th>\n",
       "      <td>75106</td>\n",
       "      <td>14.0</td>\n",
       "      <td>ug.m-3</td>\n",
       "      <td>2017/09/19 03:00:00+00</td>\n",
       "      <td>1</td>\n",
       "      <td>651166.0</td>\n",
       "      <td>6862011.0</td>\n",
       "    </tr>\n",
       "    <tr>\n",
       "      <th>11</th>\n",
       "      <td>75106</td>\n",
       "      <td>16.0</td>\n",
       "      <td>ug.m-3</td>\n",
       "      <td>2017/09/19 04:00:00+00</td>\n",
       "      <td>1</td>\n",
       "      <td>651166.0</td>\n",
       "      <td>6862011.0</td>\n",
       "    </tr>\n",
       "    <tr>\n",
       "      <th>12</th>\n",
       "      <td>75106</td>\n",
       "      <td>19.0</td>\n",
       "      <td>ug.m-3</td>\n",
       "      <td>2017/09/19 05:00:00+00</td>\n",
       "      <td>1</td>\n",
       "      <td>651166.0</td>\n",
       "      <td>6862011.0</td>\n",
       "    </tr>\n",
       "    <tr>\n",
       "      <th>13</th>\n",
       "      <td>75106</td>\n",
       "      <td>39.0</td>\n",
       "      <td>ug.m-3</td>\n",
       "      <td>2017/09/19 06:00:00+00</td>\n",
       "      <td>1</td>\n",
       "      <td>651166.0</td>\n",
       "      <td>6862011.0</td>\n",
       "    </tr>\n",
       "    <tr>\n",
       "      <th>14</th>\n",
       "      <td>75106</td>\n",
       "      <td>73.0</td>\n",
       "      <td>ug.m-3</td>\n",
       "      <td>2017/09/19 07:00:00+00</td>\n",
       "      <td>1</td>\n",
       "      <td>651166.0</td>\n",
       "      <td>6862011.0</td>\n",
       "    </tr>\n",
       "    <tr>\n",
       "      <th>15</th>\n",
       "      <td>75106</td>\n",
       "      <td>85.0</td>\n",
       "      <td>ug.m-3</td>\n",
       "      <td>2017/09/19 08:00:00+00</td>\n",
       "      <td>1</td>\n",
       "      <td>651166.0</td>\n",
       "      <td>6862011.0</td>\n",
       "    </tr>\n",
       "    <tr>\n",
       "      <th>16</th>\n",
       "      <td>75106</td>\n",
       "      <td>91.0</td>\n",
       "      <td>ug.m-3</td>\n",
       "      <td>2017/09/19 09:00:00+00</td>\n",
       "      <td>1</td>\n",
       "      <td>651166.0</td>\n",
       "      <td>6862011.0</td>\n",
       "    </tr>\n",
       "    <tr>\n",
       "      <th>17</th>\n",
       "      <td>75106</td>\n",
       "      <td>91.0</td>\n",
       "      <td>ug.m-3</td>\n",
       "      <td>2017/09/19 10:00:00+00</td>\n",
       "      <td>1</td>\n",
       "      <td>651166.0</td>\n",
       "      <td>6862011.0</td>\n",
       "    </tr>\n",
       "    <tr>\n",
       "      <th>18</th>\n",
       "      <td>75106</td>\n",
       "      <td>77.0</td>\n",
       "      <td>ug.m-3</td>\n",
       "      <td>2017/09/19 11:00:00+00</td>\n",
       "      <td>1</td>\n",
       "      <td>651166.0</td>\n",
       "      <td>6862011.0</td>\n",
       "    </tr>\n",
       "    <tr>\n",
       "      <th>19</th>\n",
       "      <td>75106</td>\n",
       "      <td>60.0</td>\n",
       "      <td>ug.m-3</td>\n",
       "      <td>2017/09/19 12:00:00+00</td>\n",
       "      <td>1</td>\n",
       "      <td>651166.0</td>\n",
       "      <td>6862011.0</td>\n",
       "    </tr>\n",
       "  </tbody>\n",
       "</table>\n",
       "</div>"
      ],
      "text/plain": [
       "    zip_code   no2   unite                    date  statut_valid         x  \\\n",
       "0      75106  73.0  ug.m-3  2017/09/18 17:00:00+00             1  651166.0   \n",
       "1      75106  57.0  ug.m-3  2017/09/18 18:00:00+00             1  651166.0   \n",
       "2      75106  65.0  ug.m-3  2017/09/18 19:00:00+00             1  651166.0   \n",
       "3      75106  81.0  ug.m-3  2017/09/18 20:00:00+00             1  651166.0   \n",
       "4      75106  74.0  ug.m-3  2017/09/18 21:00:00+00             1  651166.0   \n",
       "5      75106  69.0  ug.m-3  2017/09/18 22:00:00+00             1  651166.0   \n",
       "6      75106  71.0  ug.m-3  2017/09/18 23:00:00+00             1  651166.0   \n",
       "7      75106  51.0  ug.m-3  2017/09/19 00:00:00+00             1  651166.0   \n",
       "8      75106  55.0  ug.m-3  2017/09/19 01:00:00+00             1  651166.0   \n",
       "9      75106  17.0  ug.m-3  2017/09/19 02:00:00+00             1  651166.0   \n",
       "10     75106  14.0  ug.m-3  2017/09/19 03:00:00+00             1  651166.0   \n",
       "11     75106  16.0  ug.m-3  2017/09/19 04:00:00+00             1  651166.0   \n",
       "12     75106  19.0  ug.m-3  2017/09/19 05:00:00+00             1  651166.0   \n",
       "13     75106  39.0  ug.m-3  2017/09/19 06:00:00+00             1  651166.0   \n",
       "14     75106  73.0  ug.m-3  2017/09/19 07:00:00+00             1  651166.0   \n",
       "15     75106  85.0  ug.m-3  2017/09/19 08:00:00+00             1  651166.0   \n",
       "16     75106  91.0  ug.m-3  2017/09/19 09:00:00+00             1  651166.0   \n",
       "17     75106  91.0  ug.m-3  2017/09/19 10:00:00+00             1  651166.0   \n",
       "18     75106  77.0  ug.m-3  2017/09/19 11:00:00+00             1  651166.0   \n",
       "19     75106  60.0  ug.m-3  2017/09/19 12:00:00+00             1  651166.0   \n",
       "\n",
       "            y  \n",
       "0   6862011.0  \n",
       "1   6862011.0  \n",
       "2   6862011.0  \n",
       "3   6862011.0  \n",
       "4   6862011.0  \n",
       "5   6862011.0  \n",
       "6   6862011.0  \n",
       "7   6862011.0  \n",
       "8   6862011.0  \n",
       "9   6862011.0  \n",
       "10  6862011.0  \n",
       "11  6862011.0  \n",
       "12  6862011.0  \n",
       "13  6862011.0  \n",
       "14  6862011.0  \n",
       "15  6862011.0  \n",
       "16  6862011.0  \n",
       "17  6862011.0  \n",
       "18  6862011.0  \n",
       "19  6862011.0  "
      ]
     },
     "execution_count": 19,
     "metadata": {},
     "output_type": "execute_result"
    },
    {
     "name": "stdout",
     "output_type": "stream",
     "text": [
      "time: 14.5 ms\n"
     ]
    }
   ],
   "source": [
    "df2.head(20)"
   ]
  },
  {
   "cell_type": "code",
   "execution_count": 20,
   "metadata": {},
   "outputs": [
    {
     "name": "stdout",
     "output_type": "stream",
     "text": [
      "2.1312954440793206 48.79932829363014\n",
      "time: 107 ms\n"
     ]
    },
    {
     "name": "stderr",
     "output_type": "stream",
     "text": [
      "/home/fitec/anaconda3/envs/adata3/lib/python3.7/site-packages/ipykernel_launcher.py:6: DeprecationWarning: This function is deprecated. See: https://pyproj4.github.io/pyproj/stable/gotchas.html#upgrading-to-pyproj-2-from-pyproj-1\n",
      "  \n"
     ]
    }
   ],
   "source": [
    "from pyproj import Proj, transform\n",
    "inProj = Proj(init='epsg:2154')\n",
    "outProj = Proj(init='epsg:4326', preserve_units=True)\n",
    "\n",
    "x1,y1 = 636191.1234,6855823.12345\n",
    "x2,y2 = transform(inProj,outProj,x1,y1)\n",
    "print(x2,y2)"
   ]
  },
  {
   "cell_type": "code",
   "execution_count": 21,
   "metadata": {},
   "outputs": [
    {
     "name": "stderr",
     "output_type": "stream",
     "text": [
      "/home/fitec/anaconda3/envs/adata3/lib/python3.7/site-packages/ipykernel_launcher.py:10: DeprecationWarning: This function is deprecated. See: https://pyproj4.github.io/pyproj/stable/gotchas.html#upgrading-to-pyproj-2-from-pyproj-1\n",
      "  # Remove the CWD from sys.path while we load stuff.\n",
      "/home/fitec/anaconda3/envs/adata3/lib/python3.7/site-packages/ipykernel_launcher.py:10: SettingWithCopyWarning: \n",
      "A value is trying to be set on a copy of a slice from a DataFrame\n",
      "\n",
      "See the caveats in the documentation: https://pandas.pydata.org/pandas-docs/stable/user_guide/indexing.html#returning-a-view-versus-a-copy\n",
      "  # Remove the CWD from sys.path while we load stuff.\n",
      "/home/fitec/anaconda3/envs/adata3/lib/python3.7/site-packages/IPython/core/interactiveshell.py:3418: SettingWithCopyWarning: \n",
      "A value is trying to be set on a copy of a slice from a DataFrame\n",
      "\n",
      "See the caveats in the documentation: https://pandas.pydata.org/pandas-docs/stable/user_guide/indexing.html#returning-a-view-versus-a-copy\n",
      "  exec(code_obj, self.user_global_ns, self.user_ns)\n"
     ]
    },
    {
     "name": "stdout",
     "output_type": "stream",
     "text": [
      "time: 1h 43min 5s\n"
     ]
    }
   ],
   "source": [
    "from pyproj import Proj, transform\n",
    "inProj = Proj(init='epsg:2154', preserve_units=True)\n",
    "outProj = Proj(init='epsg:4326', preserve_units=True)\n",
    "scale_value = 1.0e6\n",
    "\n",
    "for ct in df2.index:\n",
    "     \n",
    "    x1,y1 = df2[\"x\"][ct],df2[\"y\"][ct]\n",
    "    #print(x1,y1)\n",
    "    df2[\"x\"][ct],df2[\"y\"][ct] = transform(inProj,outProj,x1,y1)\n",
    "    #print(df2[\"x\"][ct],df2[\"y\"][ct])"
   ]
  },
  {
   "cell_type": "code",
   "execution_count": 22,
   "metadata": {},
   "outputs": [
    {
     "data": {
      "text/html": [
       "<div>\n",
       "<style scoped>\n",
       "    .dataframe tbody tr th:only-of-type {\n",
       "        vertical-align: middle;\n",
       "    }\n",
       "\n",
       "    .dataframe tbody tr th {\n",
       "        vertical-align: top;\n",
       "    }\n",
       "\n",
       "    .dataframe thead th {\n",
       "        text-align: right;\n",
       "    }\n",
       "</style>\n",
       "<table border=\"1\" class=\"dataframe\">\n",
       "  <thead>\n",
       "    <tr style=\"text-align: right;\">\n",
       "      <th></th>\n",
       "      <th>zip_code</th>\n",
       "      <th>no2</th>\n",
       "      <th>unite</th>\n",
       "      <th>date</th>\n",
       "      <th>statut_valid</th>\n",
       "      <th>x</th>\n",
       "      <th>y</th>\n",
       "    </tr>\n",
       "  </thead>\n",
       "  <tbody>\n",
       "    <tr>\n",
       "      <th>0</th>\n",
       "      <td>75106</td>\n",
       "      <td>73.0</td>\n",
       "      <td>ug.m-3</td>\n",
       "      <td>2017/09/18 17:00:00+00</td>\n",
       "      <td>1</td>\n",
       "      <td>2.334445</td>\n",
       "      <td>48.856284</td>\n",
       "    </tr>\n",
       "    <tr>\n",
       "      <th>1</th>\n",
       "      <td>75106</td>\n",
       "      <td>57.0</td>\n",
       "      <td>ug.m-3</td>\n",
       "      <td>2017/09/18 18:00:00+00</td>\n",
       "      <td>1</td>\n",
       "      <td>2.334445</td>\n",
       "      <td>48.856284</td>\n",
       "    </tr>\n",
       "    <tr>\n",
       "      <th>2</th>\n",
       "      <td>75106</td>\n",
       "      <td>65.0</td>\n",
       "      <td>ug.m-3</td>\n",
       "      <td>2017/09/18 19:00:00+00</td>\n",
       "      <td>1</td>\n",
       "      <td>2.334445</td>\n",
       "      <td>48.856284</td>\n",
       "    </tr>\n",
       "    <tr>\n",
       "      <th>3</th>\n",
       "      <td>75106</td>\n",
       "      <td>81.0</td>\n",
       "      <td>ug.m-3</td>\n",
       "      <td>2017/09/18 20:00:00+00</td>\n",
       "      <td>1</td>\n",
       "      <td>2.334445</td>\n",
       "      <td>48.856284</td>\n",
       "    </tr>\n",
       "    <tr>\n",
       "      <th>4</th>\n",
       "      <td>75106</td>\n",
       "      <td>74.0</td>\n",
       "      <td>ug.m-3</td>\n",
       "      <td>2017/09/18 21:00:00+00</td>\n",
       "      <td>1</td>\n",
       "      <td>2.334445</td>\n",
       "      <td>48.856284</td>\n",
       "    </tr>\n",
       "    <tr>\n",
       "      <th>5</th>\n",
       "      <td>75106</td>\n",
       "      <td>69.0</td>\n",
       "      <td>ug.m-3</td>\n",
       "      <td>2017/09/18 22:00:00+00</td>\n",
       "      <td>1</td>\n",
       "      <td>2.334445</td>\n",
       "      <td>48.856284</td>\n",
       "    </tr>\n",
       "    <tr>\n",
       "      <th>6</th>\n",
       "      <td>75106</td>\n",
       "      <td>71.0</td>\n",
       "      <td>ug.m-3</td>\n",
       "      <td>2017/09/18 23:00:00+00</td>\n",
       "      <td>1</td>\n",
       "      <td>2.334445</td>\n",
       "      <td>48.856284</td>\n",
       "    </tr>\n",
       "    <tr>\n",
       "      <th>7</th>\n",
       "      <td>75106</td>\n",
       "      <td>51.0</td>\n",
       "      <td>ug.m-3</td>\n",
       "      <td>2017/09/19 00:00:00+00</td>\n",
       "      <td>1</td>\n",
       "      <td>2.334445</td>\n",
       "      <td>48.856284</td>\n",
       "    </tr>\n",
       "    <tr>\n",
       "      <th>8</th>\n",
       "      <td>75106</td>\n",
       "      <td>55.0</td>\n",
       "      <td>ug.m-3</td>\n",
       "      <td>2017/09/19 01:00:00+00</td>\n",
       "      <td>1</td>\n",
       "      <td>2.334445</td>\n",
       "      <td>48.856284</td>\n",
       "    </tr>\n",
       "    <tr>\n",
       "      <th>9</th>\n",
       "      <td>75106</td>\n",
       "      <td>17.0</td>\n",
       "      <td>ug.m-3</td>\n",
       "      <td>2017/09/19 02:00:00+00</td>\n",
       "      <td>1</td>\n",
       "      <td>2.334445</td>\n",
       "      <td>48.856284</td>\n",
       "    </tr>\n",
       "    <tr>\n",
       "      <th>10</th>\n",
       "      <td>75106</td>\n",
       "      <td>14.0</td>\n",
       "      <td>ug.m-3</td>\n",
       "      <td>2017/09/19 03:00:00+00</td>\n",
       "      <td>1</td>\n",
       "      <td>2.334445</td>\n",
       "      <td>48.856284</td>\n",
       "    </tr>\n",
       "    <tr>\n",
       "      <th>11</th>\n",
       "      <td>75106</td>\n",
       "      <td>16.0</td>\n",
       "      <td>ug.m-3</td>\n",
       "      <td>2017/09/19 04:00:00+00</td>\n",
       "      <td>1</td>\n",
       "      <td>2.334445</td>\n",
       "      <td>48.856284</td>\n",
       "    </tr>\n",
       "    <tr>\n",
       "      <th>12</th>\n",
       "      <td>75106</td>\n",
       "      <td>19.0</td>\n",
       "      <td>ug.m-3</td>\n",
       "      <td>2017/09/19 05:00:00+00</td>\n",
       "      <td>1</td>\n",
       "      <td>2.334445</td>\n",
       "      <td>48.856284</td>\n",
       "    </tr>\n",
       "    <tr>\n",
       "      <th>13</th>\n",
       "      <td>75106</td>\n",
       "      <td>39.0</td>\n",
       "      <td>ug.m-3</td>\n",
       "      <td>2017/09/19 06:00:00+00</td>\n",
       "      <td>1</td>\n",
       "      <td>2.334445</td>\n",
       "      <td>48.856284</td>\n",
       "    </tr>\n",
       "    <tr>\n",
       "      <th>14</th>\n",
       "      <td>75106</td>\n",
       "      <td>73.0</td>\n",
       "      <td>ug.m-3</td>\n",
       "      <td>2017/09/19 07:00:00+00</td>\n",
       "      <td>1</td>\n",
       "      <td>2.334445</td>\n",
       "      <td>48.856284</td>\n",
       "    </tr>\n",
       "    <tr>\n",
       "      <th>15</th>\n",
       "      <td>75106</td>\n",
       "      <td>85.0</td>\n",
       "      <td>ug.m-3</td>\n",
       "      <td>2017/09/19 08:00:00+00</td>\n",
       "      <td>1</td>\n",
       "      <td>2.334445</td>\n",
       "      <td>48.856284</td>\n",
       "    </tr>\n",
       "    <tr>\n",
       "      <th>16</th>\n",
       "      <td>75106</td>\n",
       "      <td>91.0</td>\n",
       "      <td>ug.m-3</td>\n",
       "      <td>2017/09/19 09:00:00+00</td>\n",
       "      <td>1</td>\n",
       "      <td>2.334445</td>\n",
       "      <td>48.856284</td>\n",
       "    </tr>\n",
       "    <tr>\n",
       "      <th>17</th>\n",
       "      <td>75106</td>\n",
       "      <td>91.0</td>\n",
       "      <td>ug.m-3</td>\n",
       "      <td>2017/09/19 10:00:00+00</td>\n",
       "      <td>1</td>\n",
       "      <td>2.334445</td>\n",
       "      <td>48.856284</td>\n",
       "    </tr>\n",
       "    <tr>\n",
       "      <th>18</th>\n",
       "      <td>75106</td>\n",
       "      <td>77.0</td>\n",
       "      <td>ug.m-3</td>\n",
       "      <td>2017/09/19 11:00:00+00</td>\n",
       "      <td>1</td>\n",
       "      <td>2.334445</td>\n",
       "      <td>48.856284</td>\n",
       "    </tr>\n",
       "    <tr>\n",
       "      <th>19</th>\n",
       "      <td>75106</td>\n",
       "      <td>60.0</td>\n",
       "      <td>ug.m-3</td>\n",
       "      <td>2017/09/19 12:00:00+00</td>\n",
       "      <td>1</td>\n",
       "      <td>2.334445</td>\n",
       "      <td>48.856284</td>\n",
       "    </tr>\n",
       "  </tbody>\n",
       "</table>\n",
       "</div>"
      ],
      "text/plain": [
       "    zip_code   no2   unite                    date  statut_valid         x  \\\n",
       "0      75106  73.0  ug.m-3  2017/09/18 17:00:00+00             1  2.334445   \n",
       "1      75106  57.0  ug.m-3  2017/09/18 18:00:00+00             1  2.334445   \n",
       "2      75106  65.0  ug.m-3  2017/09/18 19:00:00+00             1  2.334445   \n",
       "3      75106  81.0  ug.m-3  2017/09/18 20:00:00+00             1  2.334445   \n",
       "4      75106  74.0  ug.m-3  2017/09/18 21:00:00+00             1  2.334445   \n",
       "5      75106  69.0  ug.m-3  2017/09/18 22:00:00+00             1  2.334445   \n",
       "6      75106  71.0  ug.m-3  2017/09/18 23:00:00+00             1  2.334445   \n",
       "7      75106  51.0  ug.m-3  2017/09/19 00:00:00+00             1  2.334445   \n",
       "8      75106  55.0  ug.m-3  2017/09/19 01:00:00+00             1  2.334445   \n",
       "9      75106  17.0  ug.m-3  2017/09/19 02:00:00+00             1  2.334445   \n",
       "10     75106  14.0  ug.m-3  2017/09/19 03:00:00+00             1  2.334445   \n",
       "11     75106  16.0  ug.m-3  2017/09/19 04:00:00+00             1  2.334445   \n",
       "12     75106  19.0  ug.m-3  2017/09/19 05:00:00+00             1  2.334445   \n",
       "13     75106  39.0  ug.m-3  2017/09/19 06:00:00+00             1  2.334445   \n",
       "14     75106  73.0  ug.m-3  2017/09/19 07:00:00+00             1  2.334445   \n",
       "15     75106  85.0  ug.m-3  2017/09/19 08:00:00+00             1  2.334445   \n",
       "16     75106  91.0  ug.m-3  2017/09/19 09:00:00+00             1  2.334445   \n",
       "17     75106  91.0  ug.m-3  2017/09/19 10:00:00+00             1  2.334445   \n",
       "18     75106  77.0  ug.m-3  2017/09/19 11:00:00+00             1  2.334445   \n",
       "19     75106  60.0  ug.m-3  2017/09/19 12:00:00+00             1  2.334445   \n",
       "\n",
       "            y  \n",
       "0   48.856284  \n",
       "1   48.856284  \n",
       "2   48.856284  \n",
       "3   48.856284  \n",
       "4   48.856284  \n",
       "5   48.856284  \n",
       "6   48.856284  \n",
       "7   48.856284  \n",
       "8   48.856284  \n",
       "9   48.856284  \n",
       "10  48.856284  \n",
       "11  48.856284  \n",
       "12  48.856284  \n",
       "13  48.856284  \n",
       "14  48.856284  \n",
       "15  48.856284  \n",
       "16  48.856284  \n",
       "17  48.856284  \n",
       "18  48.856284  \n",
       "19  48.856284  "
      ]
     },
     "execution_count": 22,
     "metadata": {},
     "output_type": "execute_result"
    },
    {
     "name": "stdout",
     "output_type": "stream",
     "text": [
      "time: 8.57 ms\n"
     ]
    }
   ],
   "source": [
    "df2.head(20)"
   ]
  },
  {
   "cell_type": "markdown",
   "metadata": {},
   "source": [
    "### Format Zip code"
   ]
  },
  {
   "cell_type": "code",
   "execution_count": 23,
   "metadata": {},
   "outputs": [
    {
     "name": "stdout",
     "output_type": "stream",
     "text": [
      "time: 478 ms\n"
     ]
    }
   ],
   "source": [
    "df.to_csv(\"/home/fitec/00-Fitec_Formation/Projet_Fil_Rouge_Groupe1_Bike_Paris/03-Donnees_batch/pollution_no2_final_avec_coord_GPS.csv\", sep=\";\", encoding=\"utf-8\")"
   ]
  },
  {
   "cell_type": "code",
   "execution_count": null,
   "metadata": {},
   "outputs": [],
   "source": []
  }
 ],
 "metadata": {
  "kernelspec": {
   "display_name": "Python 3",
   "language": "python",
   "name": "python3"
  },
  "language_info": {
   "codemirror_mode": {
    "name": "ipython",
    "version": 3
   },
   "file_extension": ".py",
   "mimetype": "text/x-python",
   "name": "python",
   "nbconvert_exporter": "python",
   "pygments_lexer": "ipython3",
   "version": "3.8.3"
  }
 },
 "nbformat": 4,
 "nbformat_minor": 4
}
