{
 "cells": [
  {
   "cell_type": "code",
   "execution_count": 172,
   "metadata": {},
   "outputs": [],
   "source": [
    "import pandas as pd\n",
    "\n",
    "df= pd.read_csv(\"/home/fitec/Téléchargements/comptage-velo-donnees-compteurs.csv\",engine='python',error_bad_lines=False,delimiter=\";\",encoding=\"utf8\")"
   ]
  },
  {
   "cell_type": "code",
   "execution_count": 173,
   "metadata": {},
   "outputs": [
    {
     "data": {
      "text/plain": [
       "(910462, 9)"
      ]
     },
     "execution_count": 173,
     "metadata": {},
     "output_type": "execute_result"
    }
   ],
   "source": [
    "df.shape"
   ]
  },
  {
   "cell_type": "code",
   "execution_count": 174,
   "metadata": {},
   "outputs": [
    {
     "data": {
      "text/plain": [
       "['Identifiant du compteur',\n",
       " 'Nom du compteur',\n",
       " 'Identifiant du site de comptage',\n",
       " 'Nom du site de comptage',\n",
       " 'Comptage horaire',\n",
       " 'Date et heure de comptage',\n",
       " \"Date d'installation du site de comptage\",\n",
       " 'Lien vers photo du site de comptage',\n",
       " 'Coordonnées géographiques']"
      ]
     },
     "execution_count": 174,
     "metadata": {},
     "output_type": "execute_result"
    }
   ],
   "source": [
    "list(df.columns.values)\n"
   ]
  },
  {
   "cell_type": "markdown",
   "metadata": {},
   "source": [
    "### select right columns"
   ]
  },
  {
   "cell_type": "code",
   "execution_count": 177,
   "metadata": {},
   "outputs": [],
   "source": [
    "df=df[[\"Nom du compteur\",\"Comptage horaire\",\"Date et heure de comptage\",\"Date d'installation du site de comptage\",\"Coordonnées géographiques\"]]"
   ]
  },
  {
   "cell_type": "code",
   "execution_count": 178,
   "metadata": {},
   "outputs": [
    {
     "data": {
      "text/html": [
       "<div>\n",
       "<style scoped>\n",
       "    .dataframe tbody tr th:only-of-type {\n",
       "        vertical-align: middle;\n",
       "    }\n",
       "\n",
       "    .dataframe tbody tr th {\n",
       "        vertical-align: top;\n",
       "    }\n",
       "\n",
       "    .dataframe thead th {\n",
       "        text-align: right;\n",
       "    }\n",
       "</style>\n",
       "<table border=\"1\" class=\"dataframe\">\n",
       "  <thead>\n",
       "    <tr style=\"text-align: right;\">\n",
       "      <th></th>\n",
       "      <th>Nom du compteur</th>\n",
       "      <th>Comptage horaire</th>\n",
       "      <th>Date et heure de comptage</th>\n",
       "      <th>Date d'installation du site de comptage</th>\n",
       "      <th>Coordonnées géographiques</th>\n",
       "    </tr>\n",
       "  </thead>\n",
       "  <tbody>\n",
       "    <tr>\n",
       "      <th>910457</th>\n",
       "      <td>74 Boulevard Ornano S-N</td>\n",
       "      <td>87.0</td>\n",
       "      <td>2020-12-22T16:00:00+01:00</td>\n",
       "      <td>2020-07-22</td>\n",
       "      <td>48.896825,2.345648</td>\n",
       "    </tr>\n",
       "    <tr>\n",
       "      <th>910458</th>\n",
       "      <td>74 Boulevard Ornano S-N</td>\n",
       "      <td>86.0</td>\n",
       "      <td>2020-12-22T17:00:00+01:00</td>\n",
       "      <td>2020-07-22</td>\n",
       "      <td>48.896825,2.345648</td>\n",
       "    </tr>\n",
       "    <tr>\n",
       "      <th>910459</th>\n",
       "      <td>74 Boulevard Ornano S-N</td>\n",
       "      <td>90.0</td>\n",
       "      <td>2020-12-22T18:00:00+01:00</td>\n",
       "      <td>2020-07-22</td>\n",
       "      <td>48.896825,2.345648</td>\n",
       "    </tr>\n",
       "    <tr>\n",
       "      <th>910460</th>\n",
       "      <td>74 Boulevard Ornano S-N</td>\n",
       "      <td>23.0</td>\n",
       "      <td>2020-12-22T22:00:00+01:00</td>\n",
       "      <td>2020-07-22</td>\n",
       "      <td>48.896825,2.345648</td>\n",
       "    </tr>\n",
       "    <tr>\n",
       "      <th>910461</th>\n",
       "      <td>74 Boulevard Ornano S-N</td>\n",
       "      <td>11.0</td>\n",
       "      <td>2020-12-22T23:00:00+01:00</td>\n",
       "      <td>2020-07-22</td>\n",
       "      <td>48.896825,2.345648</td>\n",
       "    </tr>\n",
       "  </tbody>\n",
       "</table>\n",
       "</div>"
      ],
      "text/plain": [
       "                Nom du compteur  Comptage horaire  Date et heure de comptage  \\\n",
       "910457  74 Boulevard Ornano S-N              87.0  2020-12-22T16:00:00+01:00   \n",
       "910458  74 Boulevard Ornano S-N              86.0  2020-12-22T17:00:00+01:00   \n",
       "910459  74 Boulevard Ornano S-N              90.0  2020-12-22T18:00:00+01:00   \n",
       "910460  74 Boulevard Ornano S-N              23.0  2020-12-22T22:00:00+01:00   \n",
       "910461  74 Boulevard Ornano S-N              11.0  2020-12-22T23:00:00+01:00   \n",
       "\n",
       "       Date d'installation du site de comptage Coordonnées géographiques  \n",
       "910457                              2020-07-22        48.896825,2.345648  \n",
       "910458                              2020-07-22        48.896825,2.345648  \n",
       "910459                              2020-07-22        48.896825,2.345648  \n",
       "910460                              2020-07-22        48.896825,2.345648  \n",
       "910461                              2020-07-22        48.896825,2.345648  "
      ]
     },
     "execution_count": 178,
     "metadata": {},
     "output_type": "execute_result"
    }
   ],
   "source": [
    "df.tail()"
   ]
  },
  {
   "cell_type": "markdown",
   "metadata": {},
   "source": [
    "### check if 2 columns are equals "
   ]
  },
  {
   "cell_type": "markdown",
   "metadata": {},
   "source": [
    "###  drop null value from value"
   ]
  },
  {
   "cell_type": "code",
   "execution_count": 179,
   "metadata": {},
   "outputs": [
    {
     "data": {
      "text/plain": [
       "Nom du compteur                                0\n",
       "Comptage horaire                               0\n",
       "Date et heure de comptage                      0\n",
       "Date d'installation du site de comptage    34591\n",
       "Coordonnées géographiques                  34591\n",
       "dtype: int64"
      ]
     },
     "execution_count": 179,
     "metadata": {},
     "output_type": "execute_result"
    }
   ],
   "source": [
    "#print(df[df.isnull()])\n",
    "df=df.dropna(subset=[\"Comptage horaire\"])\n",
    "df.isnull().sum()\n"
   ]
  },
  {
   "cell_type": "code",
   "execution_count": 180,
   "metadata": {},
   "outputs": [
    {
     "data": {
      "text/plain": [
       "(910462, 5)"
      ]
     },
     "execution_count": 180,
     "metadata": {},
     "output_type": "execute_result"
    }
   ],
   "source": [
    "df.shape"
   ]
  },
  {
   "cell_type": "markdown",
   "metadata": {},
   "source": [
    "### rename columns"
   ]
  },
  {
   "cell_type": "code",
   "execution_count": 181,
   "metadata": {},
   "outputs": [],
   "source": [
    "df.columns=['address','traffic',\"date\",\"installation\",\"gps\"]"
   ]
  },
  {
   "cell_type": "code",
   "execution_count": 182,
   "metadata": {},
   "outputs": [
    {
     "data": {
      "text/html": [
       "<div>\n",
       "<style scoped>\n",
       "    .dataframe tbody tr th:only-of-type {\n",
       "        vertical-align: middle;\n",
       "    }\n",
       "\n",
       "    .dataframe tbody tr th {\n",
       "        vertical-align: top;\n",
       "    }\n",
       "\n",
       "    .dataframe thead th {\n",
       "        text-align: right;\n",
       "    }\n",
       "</style>\n",
       "<table border=\"1\" class=\"dataframe\">\n",
       "  <thead>\n",
       "    <tr style=\"text-align: right;\">\n",
       "      <th></th>\n",
       "      <th>address</th>\n",
       "      <th>traffic</th>\n",
       "      <th>date</th>\n",
       "      <th>installation</th>\n",
       "      <th>gps</th>\n",
       "    </tr>\n",
       "  </thead>\n",
       "  <tbody>\n",
       "    <tr>\n",
       "      <th>910457</th>\n",
       "      <td>74 Boulevard Ornano S-N</td>\n",
       "      <td>87.0</td>\n",
       "      <td>2020-12-22T16:00:00+01:00</td>\n",
       "      <td>2020-07-22</td>\n",
       "      <td>48.896825,2.345648</td>\n",
       "    </tr>\n",
       "    <tr>\n",
       "      <th>910458</th>\n",
       "      <td>74 Boulevard Ornano S-N</td>\n",
       "      <td>86.0</td>\n",
       "      <td>2020-12-22T17:00:00+01:00</td>\n",
       "      <td>2020-07-22</td>\n",
       "      <td>48.896825,2.345648</td>\n",
       "    </tr>\n",
       "    <tr>\n",
       "      <th>910459</th>\n",
       "      <td>74 Boulevard Ornano S-N</td>\n",
       "      <td>90.0</td>\n",
       "      <td>2020-12-22T18:00:00+01:00</td>\n",
       "      <td>2020-07-22</td>\n",
       "      <td>48.896825,2.345648</td>\n",
       "    </tr>\n",
       "    <tr>\n",
       "      <th>910460</th>\n",
       "      <td>74 Boulevard Ornano S-N</td>\n",
       "      <td>23.0</td>\n",
       "      <td>2020-12-22T22:00:00+01:00</td>\n",
       "      <td>2020-07-22</td>\n",
       "      <td>48.896825,2.345648</td>\n",
       "    </tr>\n",
       "    <tr>\n",
       "      <th>910461</th>\n",
       "      <td>74 Boulevard Ornano S-N</td>\n",
       "      <td>11.0</td>\n",
       "      <td>2020-12-22T23:00:00+01:00</td>\n",
       "      <td>2020-07-22</td>\n",
       "      <td>48.896825,2.345648</td>\n",
       "    </tr>\n",
       "  </tbody>\n",
       "</table>\n",
       "</div>"
      ],
      "text/plain": [
       "                        address  traffic                       date  \\\n",
       "910457  74 Boulevard Ornano S-N     87.0  2020-12-22T16:00:00+01:00   \n",
       "910458  74 Boulevard Ornano S-N     86.0  2020-12-22T17:00:00+01:00   \n",
       "910459  74 Boulevard Ornano S-N     90.0  2020-12-22T18:00:00+01:00   \n",
       "910460  74 Boulevard Ornano S-N     23.0  2020-12-22T22:00:00+01:00   \n",
       "910461  74 Boulevard Ornano S-N     11.0  2020-12-22T23:00:00+01:00   \n",
       "\n",
       "       installation                 gps  \n",
       "910457   2020-07-22  48.896825,2.345648  \n",
       "910458   2020-07-22  48.896825,2.345648  \n",
       "910459   2020-07-22  48.896825,2.345648  \n",
       "910460   2020-07-22  48.896825,2.345648  \n",
       "910461   2020-07-22  48.896825,2.345648  "
      ]
     },
     "execution_count": 182,
     "metadata": {},
     "output_type": "execute_result"
    }
   ],
   "source": [
    "df.tail()"
   ]
  },
  {
   "cell_type": "markdown",
   "metadata": {},
   "source": [
    "### convert trafic type in int"
   ]
  },
  {
   "cell_type": "code",
   "execution_count": 183,
   "metadata": {},
   "outputs": [],
   "source": [
    "df[\"traffic\"]=df[\"traffic\"].apply(lambda x:int(x))"
   ]
  },
  {
   "cell_type": "code",
   "execution_count": 184,
   "metadata": {},
   "outputs": [
    {
     "data": {
      "text/html": [
       "<div>\n",
       "<style scoped>\n",
       "    .dataframe tbody tr th:only-of-type {\n",
       "        vertical-align: middle;\n",
       "    }\n",
       "\n",
       "    .dataframe tbody tr th {\n",
       "        vertical-align: top;\n",
       "    }\n",
       "\n",
       "    .dataframe thead th {\n",
       "        text-align: right;\n",
       "    }\n",
       "</style>\n",
       "<table border=\"1\" class=\"dataframe\">\n",
       "  <thead>\n",
       "    <tr style=\"text-align: right;\">\n",
       "      <th></th>\n",
       "      <th>address</th>\n",
       "      <th>traffic</th>\n",
       "      <th>date</th>\n",
       "      <th>installation</th>\n",
       "      <th>gps</th>\n",
       "    </tr>\n",
       "  </thead>\n",
       "  <tbody>\n",
       "    <tr>\n",
       "      <th>910457</th>\n",
       "      <td>74 Boulevard Ornano S-N</td>\n",
       "      <td>87</td>\n",
       "      <td>2020-12-22T16:00:00+01:00</td>\n",
       "      <td>2020-07-22</td>\n",
       "      <td>48.896825,2.345648</td>\n",
       "    </tr>\n",
       "    <tr>\n",
       "      <th>910458</th>\n",
       "      <td>74 Boulevard Ornano S-N</td>\n",
       "      <td>86</td>\n",
       "      <td>2020-12-22T17:00:00+01:00</td>\n",
       "      <td>2020-07-22</td>\n",
       "      <td>48.896825,2.345648</td>\n",
       "    </tr>\n",
       "    <tr>\n",
       "      <th>910459</th>\n",
       "      <td>74 Boulevard Ornano S-N</td>\n",
       "      <td>90</td>\n",
       "      <td>2020-12-22T18:00:00+01:00</td>\n",
       "      <td>2020-07-22</td>\n",
       "      <td>48.896825,2.345648</td>\n",
       "    </tr>\n",
       "    <tr>\n",
       "      <th>910460</th>\n",
       "      <td>74 Boulevard Ornano S-N</td>\n",
       "      <td>23</td>\n",
       "      <td>2020-12-22T22:00:00+01:00</td>\n",
       "      <td>2020-07-22</td>\n",
       "      <td>48.896825,2.345648</td>\n",
       "    </tr>\n",
       "    <tr>\n",
       "      <th>910461</th>\n",
       "      <td>74 Boulevard Ornano S-N</td>\n",
       "      <td>11</td>\n",
       "      <td>2020-12-22T23:00:00+01:00</td>\n",
       "      <td>2020-07-22</td>\n",
       "      <td>48.896825,2.345648</td>\n",
       "    </tr>\n",
       "  </tbody>\n",
       "</table>\n",
       "</div>"
      ],
      "text/plain": [
       "                        address  traffic                       date  \\\n",
       "910457  74 Boulevard Ornano S-N       87  2020-12-22T16:00:00+01:00   \n",
       "910458  74 Boulevard Ornano S-N       86  2020-12-22T17:00:00+01:00   \n",
       "910459  74 Boulevard Ornano S-N       90  2020-12-22T18:00:00+01:00   \n",
       "910460  74 Boulevard Ornano S-N       23  2020-12-22T22:00:00+01:00   \n",
       "910461  74 Boulevard Ornano S-N       11  2020-12-22T23:00:00+01:00   \n",
       "\n",
       "       installation                 gps  \n",
       "910457   2020-07-22  48.896825,2.345648  \n",
       "910458   2020-07-22  48.896825,2.345648  \n",
       "910459   2020-07-22  48.896825,2.345648  \n",
       "910460   2020-07-22  48.896825,2.345648  \n",
       "910461   2020-07-22  48.896825,2.345648  "
      ]
     },
     "execution_count": 184,
     "metadata": {},
     "output_type": "execute_result"
    }
   ],
   "source": [
    "df.tail()"
   ]
  },
  {
   "cell_type": "markdown",
   "metadata": {},
   "source": [
    "### convert type columns gps to str for apply extraction"
   ]
  },
  {
   "cell_type": "code",
   "execution_count": 185,
   "metadata": {},
   "outputs": [],
   "source": [
    "df[\"gps\"]=df[\"gps\"].apply(lambda x:str(x))"
   ]
  },
  {
   "cell_type": "code",
   "execution_count": 186,
   "metadata": {},
   "outputs": [
    {
     "data": {
      "text/plain": [
       "nan                   34591\n",
       "48.840801,2.333233    20057\n",
       "48.846028,2.375429    20057\n",
       "48.85372,2.35702      20056\n",
       "48.891415,2.384954    20056\n",
       "                      ...  \n",
       "48.851525,2.343298     5205\n",
       "48.84638,2.31529       4274\n",
       "48.89696,2.34538       3693\n",
       "48.896825,2.345648     3693\n",
       "48.87746,2.35008       1247\n",
       "Name: gps, Length: 70, dtype: int64"
      ]
     },
     "execution_count": 186,
     "metadata": {},
     "output_type": "execute_result"
    }
   ],
   "source": [
    "df[\"gps\"].value_counts()"
   ]
  },
  {
   "cell_type": "markdown",
   "metadata": {},
   "source": [
    "### extract x,y from GPS "
   ]
  },
  {
   "cell_type": "code",
   "execution_count": 187,
   "metadata": {},
   "outputs": [],
   "source": [
    "\n",
    "#df=df.dropna(subset=[\"gps\"])\n"
   ]
  },
  {
   "cell_type": "code",
   "execution_count": 188,
   "metadata": {},
   "outputs": [],
   "source": [
    "df[\"gps_x\"]=df[\"gps\"].apply(lambda x:x.split(\",\")[0])\n",
    "df[\"gps_y\"]=df[\"gps\"].apply(lambda x:x.split(\",\")[-1])"
   ]
  },
  {
   "cell_type": "code",
   "execution_count": 189,
   "metadata": {},
   "outputs": [
    {
     "data": {
      "text/html": [
       "<div>\n",
       "<style scoped>\n",
       "    .dataframe tbody tr th:only-of-type {\n",
       "        vertical-align: middle;\n",
       "    }\n",
       "\n",
       "    .dataframe tbody tr th {\n",
       "        vertical-align: top;\n",
       "    }\n",
       "\n",
       "    .dataframe thead th {\n",
       "        text-align: right;\n",
       "    }\n",
       "</style>\n",
       "<table border=\"1\" class=\"dataframe\">\n",
       "  <thead>\n",
       "    <tr style=\"text-align: right;\">\n",
       "      <th></th>\n",
       "      <th>address</th>\n",
       "      <th>traffic</th>\n",
       "      <th>date</th>\n",
       "      <th>installation</th>\n",
       "      <th>gps</th>\n",
       "      <th>gps_x</th>\n",
       "      <th>gps_y</th>\n",
       "    </tr>\n",
       "  </thead>\n",
       "  <tbody>\n",
       "    <tr>\n",
       "      <th>910457</th>\n",
       "      <td>74 Boulevard Ornano S-N</td>\n",
       "      <td>87</td>\n",
       "      <td>2020-12-22T16:00:00+01:00</td>\n",
       "      <td>2020-07-22</td>\n",
       "      <td>48.896825,2.345648</td>\n",
       "      <td>48.896825</td>\n",
       "      <td>2.345648</td>\n",
       "    </tr>\n",
       "    <tr>\n",
       "      <th>910458</th>\n",
       "      <td>74 Boulevard Ornano S-N</td>\n",
       "      <td>86</td>\n",
       "      <td>2020-12-22T17:00:00+01:00</td>\n",
       "      <td>2020-07-22</td>\n",
       "      <td>48.896825,2.345648</td>\n",
       "      <td>48.896825</td>\n",
       "      <td>2.345648</td>\n",
       "    </tr>\n",
       "    <tr>\n",
       "      <th>910459</th>\n",
       "      <td>74 Boulevard Ornano S-N</td>\n",
       "      <td>90</td>\n",
       "      <td>2020-12-22T18:00:00+01:00</td>\n",
       "      <td>2020-07-22</td>\n",
       "      <td>48.896825,2.345648</td>\n",
       "      <td>48.896825</td>\n",
       "      <td>2.345648</td>\n",
       "    </tr>\n",
       "    <tr>\n",
       "      <th>910460</th>\n",
       "      <td>74 Boulevard Ornano S-N</td>\n",
       "      <td>23</td>\n",
       "      <td>2020-12-22T22:00:00+01:00</td>\n",
       "      <td>2020-07-22</td>\n",
       "      <td>48.896825,2.345648</td>\n",
       "      <td>48.896825</td>\n",
       "      <td>2.345648</td>\n",
       "    </tr>\n",
       "    <tr>\n",
       "      <th>910461</th>\n",
       "      <td>74 Boulevard Ornano S-N</td>\n",
       "      <td>11</td>\n",
       "      <td>2020-12-22T23:00:00+01:00</td>\n",
       "      <td>2020-07-22</td>\n",
       "      <td>48.896825,2.345648</td>\n",
       "      <td>48.896825</td>\n",
       "      <td>2.345648</td>\n",
       "    </tr>\n",
       "  </tbody>\n",
       "</table>\n",
       "</div>"
      ],
      "text/plain": [
       "                        address  traffic                       date  \\\n",
       "910457  74 Boulevard Ornano S-N       87  2020-12-22T16:00:00+01:00   \n",
       "910458  74 Boulevard Ornano S-N       86  2020-12-22T17:00:00+01:00   \n",
       "910459  74 Boulevard Ornano S-N       90  2020-12-22T18:00:00+01:00   \n",
       "910460  74 Boulevard Ornano S-N       23  2020-12-22T22:00:00+01:00   \n",
       "910461  74 Boulevard Ornano S-N       11  2020-12-22T23:00:00+01:00   \n",
       "\n",
       "       installation                 gps      gps_x     gps_y  \n",
       "910457   2020-07-22  48.896825,2.345648  48.896825  2.345648  \n",
       "910458   2020-07-22  48.896825,2.345648  48.896825  2.345648  \n",
       "910459   2020-07-22  48.896825,2.345648  48.896825  2.345648  \n",
       "910460   2020-07-22  48.896825,2.345648  48.896825  2.345648  \n",
       "910461   2020-07-22  48.896825,2.345648  48.896825  2.345648  "
      ]
     },
     "execution_count": 189,
     "metadata": {},
     "output_type": "execute_result"
    }
   ],
   "source": [
    "df.tail()"
   ]
  },
  {
   "cell_type": "markdown",
   "metadata": {},
   "source": [
    "### Extract date & hour"
   ]
  },
  {
   "cell_type": "code",
   "execution_count": 190,
   "metadata": {},
   "outputs": [],
   "source": [
    "df[\"hour\"]=df[\"date\"].apply(lambda x:x.split(\"T\")[1])"
   ]
  },
  {
   "cell_type": "code",
   "execution_count": 191,
   "metadata": {},
   "outputs": [],
   "source": [
    "df[\"date_full\"]=df[\"date\"].apply(lambda x:x.split(\"T\")[0])"
   ]
  },
  {
   "cell_type": "code",
   "execution_count": 192,
   "metadata": {},
   "outputs": [],
   "source": [
    "df[\"hour\"]=df[\"hour\"].apply(lambda x:x.split(\"+\")[0])"
   ]
  },
  {
   "cell_type": "code",
   "execution_count": 195,
   "metadata": {},
   "outputs": [],
   "source": [
    "df['date_full']=pd.to_datetime(df['date_full'].astype(str), format='%Y/%m/%d')"
   ]
  },
  {
   "cell_type": "markdown",
   "metadata": {},
   "source": [
    "### exemple final dataset traffic"
   ]
  },
  {
   "cell_type": "code",
   "execution_count": 196,
   "metadata": {},
   "outputs": [
    {
     "data": {
      "text/html": [
       "<div>\n",
       "<style scoped>\n",
       "    .dataframe tbody tr th:only-of-type {\n",
       "        vertical-align: middle;\n",
       "    }\n",
       "\n",
       "    .dataframe tbody tr th {\n",
       "        vertical-align: top;\n",
       "    }\n",
       "\n",
       "    .dataframe thead th {\n",
       "        text-align: right;\n",
       "    }\n",
       "</style>\n",
       "<table border=\"1\" class=\"dataframe\">\n",
       "  <thead>\n",
       "    <tr style=\"text-align: right;\">\n",
       "      <th></th>\n",
       "      <th>address</th>\n",
       "      <th>traffic</th>\n",
       "      <th>date</th>\n",
       "      <th>installation</th>\n",
       "      <th>gps</th>\n",
       "      <th>gps_x</th>\n",
       "      <th>gps_y</th>\n",
       "      <th>hour</th>\n",
       "      <th>date_full</th>\n",
       "    </tr>\n",
       "  </thead>\n",
       "  <tbody>\n",
       "    <tr>\n",
       "      <th>910457</th>\n",
       "      <td>74 Boulevard Ornano S-N</td>\n",
       "      <td>87</td>\n",
       "      <td>2020-12-22 16:00:00+01:00</td>\n",
       "      <td>2020-07-22</td>\n",
       "      <td>48.896825,2.345648</td>\n",
       "      <td>48.896825</td>\n",
       "      <td>2.345648</td>\n",
       "      <td>16:00:00</td>\n",
       "      <td>2020-12-22</td>\n",
       "    </tr>\n",
       "    <tr>\n",
       "      <th>910458</th>\n",
       "      <td>74 Boulevard Ornano S-N</td>\n",
       "      <td>86</td>\n",
       "      <td>2020-12-22 17:00:00+01:00</td>\n",
       "      <td>2020-07-22</td>\n",
       "      <td>48.896825,2.345648</td>\n",
       "      <td>48.896825</td>\n",
       "      <td>2.345648</td>\n",
       "      <td>17:00:00</td>\n",
       "      <td>2020-12-22</td>\n",
       "    </tr>\n",
       "    <tr>\n",
       "      <th>910459</th>\n",
       "      <td>74 Boulevard Ornano S-N</td>\n",
       "      <td>90</td>\n",
       "      <td>2020-12-22 18:00:00+01:00</td>\n",
       "      <td>2020-07-22</td>\n",
       "      <td>48.896825,2.345648</td>\n",
       "      <td>48.896825</td>\n",
       "      <td>2.345648</td>\n",
       "      <td>18:00:00</td>\n",
       "      <td>2020-12-22</td>\n",
       "    </tr>\n",
       "    <tr>\n",
       "      <th>910460</th>\n",
       "      <td>74 Boulevard Ornano S-N</td>\n",
       "      <td>23</td>\n",
       "      <td>2020-12-22 22:00:00+01:00</td>\n",
       "      <td>2020-07-22</td>\n",
       "      <td>48.896825,2.345648</td>\n",
       "      <td>48.896825</td>\n",
       "      <td>2.345648</td>\n",
       "      <td>22:00:00</td>\n",
       "      <td>2020-12-22</td>\n",
       "    </tr>\n",
       "    <tr>\n",
       "      <th>910461</th>\n",
       "      <td>74 Boulevard Ornano S-N</td>\n",
       "      <td>11</td>\n",
       "      <td>2020-12-22 23:00:00+01:00</td>\n",
       "      <td>2020-07-22</td>\n",
       "      <td>48.896825,2.345648</td>\n",
       "      <td>48.896825</td>\n",
       "      <td>2.345648</td>\n",
       "      <td>23:00:00</td>\n",
       "      <td>2020-12-22</td>\n",
       "    </tr>\n",
       "  </tbody>\n",
       "</table>\n",
       "</div>"
      ],
      "text/plain": [
       "                        address  traffic                       date  \\\n",
       "910457  74 Boulevard Ornano S-N       87  2020-12-22 16:00:00+01:00   \n",
       "910458  74 Boulevard Ornano S-N       86  2020-12-22 17:00:00+01:00   \n",
       "910459  74 Boulevard Ornano S-N       90  2020-12-22 18:00:00+01:00   \n",
       "910460  74 Boulevard Ornano S-N       23  2020-12-22 22:00:00+01:00   \n",
       "910461  74 Boulevard Ornano S-N       11  2020-12-22 23:00:00+01:00   \n",
       "\n",
       "       installation                 gps      gps_x     gps_y      hour  \\\n",
       "910457   2020-07-22  48.896825,2.345648  48.896825  2.345648  16:00:00   \n",
       "910458   2020-07-22  48.896825,2.345648  48.896825  2.345648  17:00:00   \n",
       "910459   2020-07-22  48.896825,2.345648  48.896825  2.345648  18:00:00   \n",
       "910460   2020-07-22  48.896825,2.345648  48.896825  2.345648  22:00:00   \n",
       "910461   2020-07-22  48.896825,2.345648  48.896825  2.345648  23:00:00   \n",
       "\n",
       "        date_full  \n",
       "910457 2020-12-22  \n",
       "910458 2020-12-22  \n",
       "910459 2020-12-22  \n",
       "910460 2020-12-22  \n",
       "910461 2020-12-22  "
      ]
     },
     "execution_count": 196,
     "metadata": {},
     "output_type": "execute_result"
    }
   ],
   "source": [
    "df.tail()"
   ]
  },
  {
   "cell_type": "code",
   "execution_count": 198,
   "metadata": {},
   "outputs": [
    {
     "data": {
      "text/plain": [
       "Timestamp('2020-12-22 00:00:00')"
      ]
     },
     "execution_count": 198,
     "metadata": {},
     "output_type": "execute_result"
    }
   ],
   "source": [
    "df[\"date_full\"].max()"
   ]
  },
  {
   "cell_type": "code",
   "execution_count": 199,
   "metadata": {},
   "outputs": [
    {
     "data": {
      "text/plain": [
       "Timestamp('2019-11-01 00:00:00')"
      ]
     },
     "execution_count": 199,
     "metadata": {},
     "output_type": "execute_result"
    }
   ],
   "source": [
    "df[\"date_full\"].min()"
   ]
  },
  {
   "cell_type": "code",
   "execution_count": 127,
   "metadata": {},
   "outputs": [],
   "source": [
    "#import pandas as pd\n",
    "\n",
    "#df= pd.read_csv(\"/home/fitec/Bureau/bike_project/Bike_project/Data/traffic.csv\",delimiter=\";\",index_col=[0], encoding = \"utf-8\")"
   ]
  },
  {
   "cell_type": "code",
   "execution_count": 200,
   "metadata": {},
   "outputs": [
    {
     "data": {
      "text/html": [
       "<div>\n",
       "<style scoped>\n",
       "    .dataframe tbody tr th:only-of-type {\n",
       "        vertical-align: middle;\n",
       "    }\n",
       "\n",
       "    .dataframe tbody tr th {\n",
       "        vertical-align: top;\n",
       "    }\n",
       "\n",
       "    .dataframe thead th {\n",
       "        text-align: right;\n",
       "    }\n",
       "</style>\n",
       "<table border=\"1\" class=\"dataframe\">\n",
       "  <thead>\n",
       "    <tr style=\"text-align: right;\">\n",
       "      <th></th>\n",
       "      <th>address</th>\n",
       "      <th>traffic</th>\n",
       "      <th>date</th>\n",
       "      <th>installation</th>\n",
       "      <th>gps</th>\n",
       "      <th>gps_x</th>\n",
       "      <th>gps_y</th>\n",
       "      <th>hour</th>\n",
       "      <th>date_full</th>\n",
       "    </tr>\n",
       "  </thead>\n",
       "  <tbody>\n",
       "    <tr>\n",
       "      <th>910457</th>\n",
       "      <td>74 Boulevard Ornano S-N</td>\n",
       "      <td>87</td>\n",
       "      <td>2020-12-22 16:00:00+01:00</td>\n",
       "      <td>2020-07-22</td>\n",
       "      <td>48.896825,2.345648</td>\n",
       "      <td>48.896825</td>\n",
       "      <td>2.345648</td>\n",
       "      <td>16:00:00</td>\n",
       "      <td>2020-12-22</td>\n",
       "    </tr>\n",
       "    <tr>\n",
       "      <th>910458</th>\n",
       "      <td>74 Boulevard Ornano S-N</td>\n",
       "      <td>86</td>\n",
       "      <td>2020-12-22 17:00:00+01:00</td>\n",
       "      <td>2020-07-22</td>\n",
       "      <td>48.896825,2.345648</td>\n",
       "      <td>48.896825</td>\n",
       "      <td>2.345648</td>\n",
       "      <td>17:00:00</td>\n",
       "      <td>2020-12-22</td>\n",
       "    </tr>\n",
       "    <tr>\n",
       "      <th>910459</th>\n",
       "      <td>74 Boulevard Ornano S-N</td>\n",
       "      <td>90</td>\n",
       "      <td>2020-12-22 18:00:00+01:00</td>\n",
       "      <td>2020-07-22</td>\n",
       "      <td>48.896825,2.345648</td>\n",
       "      <td>48.896825</td>\n",
       "      <td>2.345648</td>\n",
       "      <td>18:00:00</td>\n",
       "      <td>2020-12-22</td>\n",
       "    </tr>\n",
       "    <tr>\n",
       "      <th>910460</th>\n",
       "      <td>74 Boulevard Ornano S-N</td>\n",
       "      <td>23</td>\n",
       "      <td>2020-12-22 22:00:00+01:00</td>\n",
       "      <td>2020-07-22</td>\n",
       "      <td>48.896825,2.345648</td>\n",
       "      <td>48.896825</td>\n",
       "      <td>2.345648</td>\n",
       "      <td>22:00:00</td>\n",
       "      <td>2020-12-22</td>\n",
       "    </tr>\n",
       "    <tr>\n",
       "      <th>910461</th>\n",
       "      <td>74 Boulevard Ornano S-N</td>\n",
       "      <td>11</td>\n",
       "      <td>2020-12-22 23:00:00+01:00</td>\n",
       "      <td>2020-07-22</td>\n",
       "      <td>48.896825,2.345648</td>\n",
       "      <td>48.896825</td>\n",
       "      <td>2.345648</td>\n",
       "      <td>23:00:00</td>\n",
       "      <td>2020-12-22</td>\n",
       "    </tr>\n",
       "  </tbody>\n",
       "</table>\n",
       "</div>"
      ],
      "text/plain": [
       "                        address  traffic                       date  \\\n",
       "910457  74 Boulevard Ornano S-N       87  2020-12-22 16:00:00+01:00   \n",
       "910458  74 Boulevard Ornano S-N       86  2020-12-22 17:00:00+01:00   \n",
       "910459  74 Boulevard Ornano S-N       90  2020-12-22 18:00:00+01:00   \n",
       "910460  74 Boulevard Ornano S-N       23  2020-12-22 22:00:00+01:00   \n",
       "910461  74 Boulevard Ornano S-N       11  2020-12-22 23:00:00+01:00   \n",
       "\n",
       "       installation                 gps      gps_x     gps_y      hour  \\\n",
       "910457   2020-07-22  48.896825,2.345648  48.896825  2.345648  16:00:00   \n",
       "910458   2020-07-22  48.896825,2.345648  48.896825  2.345648  17:00:00   \n",
       "910459   2020-07-22  48.896825,2.345648  48.896825  2.345648  18:00:00   \n",
       "910460   2020-07-22  48.896825,2.345648  48.896825  2.345648  22:00:00   \n",
       "910461   2020-07-22  48.896825,2.345648  48.896825  2.345648  23:00:00   \n",
       "\n",
       "        date_full  \n",
       "910457 2020-12-22  \n",
       "910458 2020-12-22  \n",
       "910459 2020-12-22  \n",
       "910460 2020-12-22  \n",
       "910461 2020-12-22  "
      ]
     },
     "execution_count": 200,
     "metadata": {},
     "output_type": "execute_result"
    }
   ],
   "source": [
    "df.tail()"
   ]
  },
  {
   "cell_type": "code",
   "execution_count": 208,
   "metadata": {},
   "outputs": [],
   "source": [
    "def funct(x):\n",
    "    if x == '97 avenue Denfert Rochereau SO-NE':\n",
    "        return 75015\n",
    "    elif x =='97 avenue Denfert Rochereau SO-NE 97 avenue Denfert Rochereau SO-NE':\n",
    "        return 75015\n",
    "    elif x=='97 avenue Denfert Rochereau SO-NE 97 avenue Denfert Rochereau SO-NE [Bike]':\n",
    "        return 75015\n",
    "    elif x=='105 rue La Fayette E-O':\n",
    "        return 75010\n",
    "    elif x=='106 avenue Denfert Rochereau NE-SO':\n",
    "        return 75015\n",
    "    elif x== '100 rue La Fayette O-E':\n",
    "        return 75010\n",
    "    elif x=='100 rue La Fayette O-E 100 rue La Fayette O-E':\n",
    "        return 75010\n",
    "    elif x=='100 rue La Fayette O-E 100 rue La Fayette O-E [Bike]':\n",
    "        return 75010\n",
    "    elif x=='100 rue La Fayette O-E 100 rue La Fayette O-E Vélos':\n",
    "        return 75010\n",
    "    elif x=='135 avenue Daumesnil SE-NO':\n",
    "        return 75012\n",
    "    elif x=='28 boulevard Diderot E-O':\n",
    "        return 75012\n",
    "    elif x=='28 boulevard Diderot O-E':\n",
    "        return 75012\n",
    "    elif x== '39 quai FranÃ§ois Mauriac NO-SE':\n",
    "        return 75013\n",
    "    elif x=='39 quai FranÃ§ois Mauriac SE-NO':\n",
    "        return 75013\n",
    "    elif x=='39 quai François Mauriac NO-SE':\n",
    "        return 75013\n",
    "    elif x=='39 quai François Mauriac SE-NO':\n",
    "        return 75013\n",
    "    elif x==\"18 quai de l'hotel de ville NO-SE\":\n",
    "        return 75004\n",
    "    elif x==\"18 quai de l'hotel de ville SE-NO\":\n",
    "        return 75004\n",
    "    elif x=='27 boulevard Diderot E-O':\n",
    "        return 75012\n",
    "    elif x=='Voie Georges Pompidou NE-SO':\n",
    "        return 75015\n",
    "    elif x=='Voie Georges Pompidou SO-NE':\n",
    "        return 75015\n",
    "    elif x=='67 boulevard Voltaire SE-NO':\n",
    "        return 75011\n",
    "    elif x=='10 avenue de la Grande ArmÃ©e SE-NO':\n",
    "        return 75017\n",
    "    elif x=='10 avenue de la Grande Armée SE-NO':\n",
    "        return 75017\n",
    "    elif x=='7 avenue de la Grande ArmÃ©e NO-SE':\n",
    "        return 75017\n",
    "    elif x=='7 avenue de la Grande Armée NO-SE':\n",
    "        return 75017\n",
    "    elif x=='72 boulevard Voltaire NO-SE':\n",
    "        return 75011\n",
    "    elif x=='89 boulevard de Magenta NO-SE':\n",
    "        return 75010\n",
    "    elif x=='16 avenue de la Porte des Ternes E-O':\n",
    "        return 75017\n",
    "    elif x=='Pont du Garigliano NO-SE':\n",
    "        return 75015\n",
    "    elif x=='102 boulevard de Magenta SE-NO':\n",
    "        return 75010\n",
    "    elif x=='26 boulevard de MÃ©nilmontant SE-NO':\n",
    "        return 75020\n",
    "    elif x=='26 boulevard de Ménilmontant SE-NO':\n",
    "        return 75020\n",
    "    elif x=='Face au 16 avenue de la  Porte des Ternes O-E':\n",
    "        return 75017\n",
    "    elif x=='21 boulevard Auguste Blanqui SO-NE':\n",
    "        return 75013\n",
    "    elif x=='72 boulevard Richard Lenoir  S-N':\n",
    "        return 75011\n",
    "    elif x=='Pont National SO-NE':\n",
    "        return 75012\n",
    "    elif x=='Face au 48 quai de la marne NE-SO':\n",
    "        return 75019\n",
    "    elif x=='Face au 48 quai de la marne SO-NE':\n",
    "        return 75019\n",
    "    elif x=='77 boulevard Richard Lenoir N-S':\n",
    "        return 75011\n",
    "    elif x==\"Face 104 rue d'Aubervilliers N-S\":\n",
    "        return 75019\n",
    "    elif x==\"Face 104 rue d'Aubervilliers S-N\":\n",
    "        return 75019\n",
    "    elif x=='Face au 70 quai de Bercy N-S':\n",
    "        return 75013\n",
    "    elif x=='Face au 70 quai de Bercy S-N':\n",
    "        return 75013\n",
    "    elif x=='6 rue Julia Bartet NE-SO':\n",
    "        return 75014\n",
    "    elif x=='6 rue Julia Bartet SO-NE':\n",
    "        return 75014\n",
    "    elif x==\"Face au 25 quai de l'Oise NE-SO\":\n",
    "        return 75019\n",
    "    elif x==\"Face au 25 quai de l'Oise SO-NE\":\n",
    "        return 75019\n",
    "    elif x=='Pont National  NE-SO':\n",
    "        return 75012\n",
    "    elif x=='35 boulevard de Menilmontant NO-SE':\n",
    "        return 75020\n",
    "    elif x=='Pont du Garigliano SE-NO SE-NO':\n",
    "        return 75015\n",
    "    elif x=='152 boulevard du Montparnasse E-O':\n",
    "        return 75015\n",
    "    elif x=='152 boulevard du Montparnasse O-E':\n",
    "        return 75015\n",
    "    elif x=='10 boulevard Auguste Blanqui NE-SO':\n",
    "        return 75013\n",
    "    elif x=='243 boulevard Saint Germain NO-SE':\n",
    "        return 75007\n",
    "    elif x=='Totem 64 Rue de Rivoli E-O':\n",
    "        return 75001\n",
    "    elif x=='Totem 64 Rue de Rivoli O-E':\n",
    "        return 75001\n",
    "    elif x=='87 avenue de Flandre NE-SO':\n",
    "        return 75019\n",
    "    elif x=='72 avenue de Flandre SO-NE':\n",
    "        return 75019\n",
    "    elif x=='2 avenue de la Porte de Bagnolet O-E':\n",
    "        return 75020\n",
    "    elif x=='44 avenue des Champs ElysÃ©es SE-NO':\n",
    "        return 75008\n",
    "    elif x=='44 avenue des Champs Elysées SE-NO':\n",
    "        return 75008\n",
    "    elif x==\"180 avenue d'Italie N-S\":\n",
    "        return 75013\n",
    "    elif x=='129 rue Lecourbe SO-NE':\n",
    "        return 75015\n",
    "    elif x==\"147 avenue d'Italie S-N\":\n",
    "        return 75013\n",
    "    elif x=='33 avenue des Champs Elysées NO-SE':\n",
    "        return 75008\n",
    "    elif x=='33 avenue des Champs ElysÃ©es NO-SE':\n",
    "        return 75008\n",
    "    elif x=='132 rue Lecourbe NE-SO':\n",
    "        return 75015\n",
    "    elif x=='Pont de la Concorde N-S':\n",
    "        return 75007\n",
    "    elif x=='Pont des Invalides S-N':\n",
    "        return 75007\n",
    "    elif x=='Pont de la Concorde S-N':\n",
    "        return 75007\n",
    "    elif x=='Pont des Invalides N-S':\n",
    "        return 75007\n",
    "    elif x==\"3 avenue de la Porte D'Orléans S-N\":\n",
    "        return 75014\n",
    "    elif x== \"3 avenue de la Porte D'OrlÃ©ans S-N\":\n",
    "        return 75014\n",
    "    elif x=='Face au 8 avenue de la porte de Charenton NO-SE':\n",
    "        return 75012\n",
    "    elif x=='Face au 8 avenue de la porte de Charenton SE-NO':\n",
    "        return 75012\n",
    "    elif x=='72 rue de la Chapelle N-S':\n",
    "        return 75018\n",
    "    elif x=='72 rue de la Chapelle S-N':\n",
    "        return 75018\n",
    "    elif x=='Face au 4 avenue de la porte de Bagnolet E-O':\n",
    "        return 75020\n",
    "    elif x=='Face au 4 avenue de la porte de Bagnolet O-E':\n",
    "        return 75020\n",
    "    elif x=='Pont Charles De Gaulle NE-SO':\n",
    "        return 75013\n",
    "    elif x=='Pont Charles De Gaulle SO-NE':\n",
    "        return 75013\n",
    "    elif x=='36 quai de Grenelle NE-SO':\n",
    "        return 75015\n",
    "    elif x=='36 quai de Grenelle SO-NE':\n",
    "        return 75015\n",
    "    elif x==\"Face au 40 quai D'Issy NE-SO\":\n",
    "        return 75015\n",
    "    elif x==\"Face au 40 quai D'Issy SO-NE\":\n",
    "        return 75015\n",
    "    elif x=='Pont de Bercy NE-SO':\n",
    "        return 75013\n",
    "    elif x=='Pont de Bercy SO-NE':\n",
    "        return 75013\n",
    "    elif x=='38 rue Turbigo NE-SO':\n",
    "        return 75003\n",
    "    elif x=='38 rue Turbigo SO-NE':\n",
    "        return 75003\n",
    "    elif x==\"Quai d'Orsay E-O\":\n",
    "        return 75007\n",
    "    elif x==\"Quai d'Orsay O-E\":\n",
    "        return 75007\n",
    "    elif x=='27 quai de la Tournelle NO-SE':\n",
    "        return 75005\n",
    "    elif x=='27 quai de la Tournelle SE-NO':\n",
    "        return 75005\n",
    "    elif x==\"Totem 85 quai d'Austerlitz NO-SE\":\n",
    "        return 75013\n",
    "    elif x==\"Totem 85 quai d'Austerlitz SE-NO\":\n",
    "        return 75013\n",
    "    elif x=='Totem Cours la Reine E-O':\n",
    "        return 75008\n",
    "    elif x=='Totem Cours la Reine O-E':\n",
    "        return 75008\n",
    "    elif x=='Totem 73 boulevard de Sébastopol N-S':\n",
    "        return 75002\n",
    "    elif x=='Totem 73 boulevard de Sébastopol S-N':\n",
    "        return 75002\n",
    "    elif x=='Totem 73 boulevard de SÃ©bastopol S-N':\n",
    "        return 75002\n",
    "    elif x=='Totem 73 boulevard de SÃ©bastopol N-S':\n",
    "        return 75002\n",
    "    elif x=='21 boulevard Saint Michel S-N':\n",
    "        return 75005\n",
    "    elif x=='30 rue Saint Jacques N-S':\n",
    "        return 75005\n",
    "    elif x=='''90 Rue De SÃ¨vres 90 Rue De SÃ¨vres VÃ©los SO-NE''':\n",
    "        return 75015\n",
    "    elif x=='''90 Rue De SÃ¨vres 90 Rue De SÃ¨vres VÃ©los NE-SO''':\n",
    "        return 75015\n",
    "    elif x=='90 Rue De SÃ¨vres SO-NE':\n",
    "        return 75015\n",
    "    elif x=='90 Rue De SÃ¨vres NE-SO':\n",
    "        return 75015\n",
    "    elif x=='90 Rue De Sèvres NE-SO':\n",
    "        return 75015\n",
    "    elif x=='90 Rue De Sèvres SO-NE':\n",
    "        return 75015\n",
    "    elif x=='90 Rue De Sèvres 90 Rue De Sèvres  Vélos SO-NE':\n",
    "        return 75015\n",
    "    elif x=='90 Rue De Sèvres 90 Rue De Sèvres  Vélos NE-SO':\n",
    "        return 75015\n",
    "    elif x=='20 Avenue de Clichy NO-SE':\n",
    "        return 75018\n",
    "    elif x=='20 Avenue de Clichy SE-NO':\n",
    "        return 75018\n",
    "    elif x=='69 Boulevard Ornano N-S':\n",
    "        return 75018\n",
    "    elif x=='74 Boulevard Ornano S-N':\n",
    "        return 75018\n",
    "    else :\n",
    "        return 0"
   ]
  },
  {
   "cell_type": "code",
   "execution_count": 209,
   "metadata": {},
   "outputs": [],
   "source": [
    "df[\"zip_code\"]=df[\"address\"].apply(funct)"
   ]
  },
  {
   "cell_type": "code",
   "execution_count": 213,
   "metadata": {},
   "outputs": [
    {
     "data": {
      "text/plain": [
       "75015    178802\n",
       "75013    129331\n",
       "75012     80225\n",
       "75019     79843\n",
       "75007     69290\n",
       "75020     48570\n",
       "75010     41002\n",
       "75011     40113\n",
       "75017     40112\n",
       "75008     35218\n",
       "75018     34686\n",
       "75014     29965\n",
       "75005     29844\n",
       "75001     20056\n",
       "75004     20056\n",
       "75003     18186\n",
       "75002     15163\n",
       "Name: zip_code, dtype: int64"
      ]
     },
     "execution_count": 213,
     "metadata": {},
     "output_type": "execute_result"
    }
   ],
   "source": [
    "df[\"zip_code\"].value_counts()"
   ]
  },
  {
   "cell_type": "code",
   "execution_count": 214,
   "metadata": {},
   "outputs": [
    {
     "data": {
      "text/plain": [
       "03:00:00    37966\n",
       "23:00:00    37952\n",
       "06:00:00    37951\n",
       "05:00:00    37951\n",
       "08:00:00    37951\n",
       "07:00:00    37951\n",
       "21:00:00    37950\n",
       "19:00:00    37950\n",
       "13:00:00    37950\n",
       "15:00:00    37950\n",
       "22:00:00    37950\n",
       "16:00:00    37950\n",
       "14:00:00    37950\n",
       "12:00:00    37950\n",
       "10:00:00    37950\n",
       "11:00:00    37950\n",
       "18:00:00    37950\n",
       "09:00:00    37950\n",
       "17:00:00    37950\n",
       "20:00:00    37950\n",
       "04:00:00    37948\n",
       "01:00:00    37850\n",
       "00:00:00    37849\n",
       "02:00:00    37793\n",
       "Name: hour, dtype: int64"
      ]
     },
     "execution_count": 214,
     "metadata": {},
     "output_type": "execute_result"
    }
   ],
   "source": [
    "df[\"hour\"].value_counts()"
   ]
  },
  {
   "cell_type": "code",
   "execution_count": 215,
   "metadata": {},
   "outputs": [],
   "source": [
    "df.to_csv(\"/home/fitec/Bureau/bike_project/Bike_project/Data/trafic.csv\", sep=\";\", encoding=\"utf-8\")"
   ]
  },
  {
   "cell_type": "code",
   "execution_count": 216,
   "metadata": {},
   "outputs": [
    {
     "data": {
      "text/html": [
       "<div>\n",
       "<style scoped>\n",
       "    .dataframe tbody tr th:only-of-type {\n",
       "        vertical-align: middle;\n",
       "    }\n",
       "\n",
       "    .dataframe tbody tr th {\n",
       "        vertical-align: top;\n",
       "    }\n",
       "\n",
       "    .dataframe thead th {\n",
       "        text-align: right;\n",
       "    }\n",
       "</style>\n",
       "<table border=\"1\" class=\"dataframe\">\n",
       "  <thead>\n",
       "    <tr style=\"text-align: right;\">\n",
       "      <th></th>\n",
       "      <th>address</th>\n",
       "      <th>traffic</th>\n",
       "      <th>date</th>\n",
       "      <th>installation</th>\n",
       "      <th>gps</th>\n",
       "      <th>gps_x</th>\n",
       "      <th>gps_y</th>\n",
       "      <th>hour</th>\n",
       "      <th>date_full</th>\n",
       "      <th>zip_code</th>\n",
       "    </tr>\n",
       "  </thead>\n",
       "  <tbody>\n",
       "    <tr>\n",
       "      <th>910457</th>\n",
       "      <td>74 Boulevard Ornano S-N</td>\n",
       "      <td>87</td>\n",
       "      <td>2020-12-22 16:00:00+01:00</td>\n",
       "      <td>2020-07-22</td>\n",
       "      <td>48.896825,2.345648</td>\n",
       "      <td>48.896825</td>\n",
       "      <td>2.345648</td>\n",
       "      <td>16:00:00</td>\n",
       "      <td>2020-12-22</td>\n",
       "      <td>75018</td>\n",
       "    </tr>\n",
       "    <tr>\n",
       "      <th>910458</th>\n",
       "      <td>74 Boulevard Ornano S-N</td>\n",
       "      <td>86</td>\n",
       "      <td>2020-12-22 17:00:00+01:00</td>\n",
       "      <td>2020-07-22</td>\n",
       "      <td>48.896825,2.345648</td>\n",
       "      <td>48.896825</td>\n",
       "      <td>2.345648</td>\n",
       "      <td>17:00:00</td>\n",
       "      <td>2020-12-22</td>\n",
       "      <td>75018</td>\n",
       "    </tr>\n",
       "    <tr>\n",
       "      <th>910459</th>\n",
       "      <td>74 Boulevard Ornano S-N</td>\n",
       "      <td>90</td>\n",
       "      <td>2020-12-22 18:00:00+01:00</td>\n",
       "      <td>2020-07-22</td>\n",
       "      <td>48.896825,2.345648</td>\n",
       "      <td>48.896825</td>\n",
       "      <td>2.345648</td>\n",
       "      <td>18:00:00</td>\n",
       "      <td>2020-12-22</td>\n",
       "      <td>75018</td>\n",
       "    </tr>\n",
       "    <tr>\n",
       "      <th>910460</th>\n",
       "      <td>74 Boulevard Ornano S-N</td>\n",
       "      <td>23</td>\n",
       "      <td>2020-12-22 22:00:00+01:00</td>\n",
       "      <td>2020-07-22</td>\n",
       "      <td>48.896825,2.345648</td>\n",
       "      <td>48.896825</td>\n",
       "      <td>2.345648</td>\n",
       "      <td>22:00:00</td>\n",
       "      <td>2020-12-22</td>\n",
       "      <td>75018</td>\n",
       "    </tr>\n",
       "    <tr>\n",
       "      <th>910461</th>\n",
       "      <td>74 Boulevard Ornano S-N</td>\n",
       "      <td>11</td>\n",
       "      <td>2020-12-22 23:00:00+01:00</td>\n",
       "      <td>2020-07-22</td>\n",
       "      <td>48.896825,2.345648</td>\n",
       "      <td>48.896825</td>\n",
       "      <td>2.345648</td>\n",
       "      <td>23:00:00</td>\n",
       "      <td>2020-12-22</td>\n",
       "      <td>75018</td>\n",
       "    </tr>\n",
       "  </tbody>\n",
       "</table>\n",
       "</div>"
      ],
      "text/plain": [
       "                        address  traffic                       date  \\\n",
       "910457  74 Boulevard Ornano S-N       87  2020-12-22 16:00:00+01:00   \n",
       "910458  74 Boulevard Ornano S-N       86  2020-12-22 17:00:00+01:00   \n",
       "910459  74 Boulevard Ornano S-N       90  2020-12-22 18:00:00+01:00   \n",
       "910460  74 Boulevard Ornano S-N       23  2020-12-22 22:00:00+01:00   \n",
       "910461  74 Boulevard Ornano S-N       11  2020-12-22 23:00:00+01:00   \n",
       "\n",
       "       installation                 gps      gps_x     gps_y      hour  \\\n",
       "910457   2020-07-22  48.896825,2.345648  48.896825  2.345648  16:00:00   \n",
       "910458   2020-07-22  48.896825,2.345648  48.896825  2.345648  17:00:00   \n",
       "910459   2020-07-22  48.896825,2.345648  48.896825  2.345648  18:00:00   \n",
       "910460   2020-07-22  48.896825,2.345648  48.896825  2.345648  22:00:00   \n",
       "910461   2020-07-22  48.896825,2.345648  48.896825  2.345648  23:00:00   \n",
       "\n",
       "         date_full  zip_code  \n",
       "910457  2020-12-22     75018  \n",
       "910458  2020-12-22     75018  \n",
       "910459  2020-12-22     75018  \n",
       "910460  2020-12-22     75018  \n",
       "910461  2020-12-22     75018  "
      ]
     },
     "execution_count": 216,
     "metadata": {},
     "output_type": "execute_result"
    }
   ],
   "source": [
    "# dft= pd.read_csv(\"/home/fitec/Bureau/bike_project/Bike_project/Data/trafic.csv\",delimiter=\";\",index_col=[0], encoding = \"utf-8\")\n",
    "# dft.tail()"
   ]
  },
  {
   "cell_type": "code",
   "execution_count": null,
   "metadata": {},
   "outputs": [],
   "source": []
  }
 ],
 "metadata": {
  "kernelspec": {
   "display_name": "Python 3",
   "language": "python",
   "name": "python3"
  },
  "language_info": {
   "codemirror_mode": {
    "name": "ipython",
    "version": 3
   },
   "file_extension": ".py",
   "mimetype": "text/x-python",
   "name": "python",
   "nbconvert_exporter": "python",
   "pygments_lexer": "ipython3",
   "version": "3.8.3"
  }
 },
 "nbformat": 4,
 "nbformat_minor": 4
}
