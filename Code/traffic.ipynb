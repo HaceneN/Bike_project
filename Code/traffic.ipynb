{
 "cells": [
  {
   "cell_type": "code",
   "execution_count": 130,
   "metadata": {},
   "outputs": [],
   "source": [
    "import pandas as pd\n",
    "\n",
    "compteur= pd.read_csv(\"C:/Users/Administrateur/Downloads/comptage-velo-donnees-compteurs.csv\",engine='python',error_bad_lines=False,delimiter=\";\")"
   ]
  },
  {
   "cell_type": "code",
   "execution_count": 131,
   "metadata": {},
   "outputs": [
    {
     "data": {
      "text/html": [
       "<div>\n",
       "<style scoped>\n",
       "    .dataframe tbody tr th:only-of-type {\n",
       "        vertical-align: middle;\n",
       "    }\n",
       "\n",
       "    .dataframe tbody tr th {\n",
       "        vertical-align: top;\n",
       "    }\n",
       "\n",
       "    .dataframe thead th {\n",
       "        text-align: right;\n",
       "    }\n",
       "</style>\n",
       "<table border=\"1\" class=\"dataframe\">\n",
       "  <thead>\n",
       "    <tr style=\"text-align: right;\">\n",
       "      <th></th>\n",
       "      <th>Identifiant du compteur</th>\n",
       "      <th>Nom du compteur</th>\n",
       "      <th>Identifiant du site de comptage</th>\n",
       "      <th>Nom du site de comptage</th>\n",
       "      <th>Comptage horaire</th>\n",
       "      <th>Date et heure de comptage</th>\n",
       "      <th>Date d'installation du site de comptage</th>\n",
       "      <th>Lien vers photo du site de comptage</th>\n",
       "      <th>CoordonnÃ©es gÃ©ographiques</th>\n",
       "    </tr>\n",
       "  </thead>\n",
       "  <tbody>\n",
       "    <tr>\n",
       "      <th>870354</th>\n",
       "      <td>100063173-SC</td>\n",
       "      <td>74 Boulevard Ornano S-N</td>\n",
       "      <td>100063173.0</td>\n",
       "      <td>74 Boulevard Ornano S-N</td>\n",
       "      <td>99.0</td>\n",
       "      <td>2020-11-18T07:00:00+01:00</td>\n",
       "      <td>2020-07-22</td>\n",
       "      <td>https://www.eco-visio.net/Photos/100063173/159...</td>\n",
       "      <td>48.896825,2.345648</td>\n",
       "    </tr>\n",
       "    <tr>\n",
       "      <th>870355</th>\n",
       "      <td>100063173-SC</td>\n",
       "      <td>74 Boulevard Ornano S-N</td>\n",
       "      <td>100063173.0</td>\n",
       "      <td>74 Boulevard Ornano S-N</td>\n",
       "      <td>84.0</td>\n",
       "      <td>2020-11-18T10:00:00+01:00</td>\n",
       "      <td>2020-07-22</td>\n",
       "      <td>https://www.eco-visio.net/Photos/100063173/159...</td>\n",
       "      <td>48.896825,2.345648</td>\n",
       "    </tr>\n",
       "    <tr>\n",
       "      <th>870356</th>\n",
       "      <td>100063173-SC</td>\n",
       "      <td>74 Boulevard Ornano S-N</td>\n",
       "      <td>100063173.0</td>\n",
       "      <td>74 Boulevard Ornano S-N</td>\n",
       "      <td>103.0</td>\n",
       "      <td>2020-11-18T15:00:00+01:00</td>\n",
       "      <td>2020-07-22</td>\n",
       "      <td>https://www.eco-visio.net/Photos/100063173/159...</td>\n",
       "      <td>48.896825,2.345648</td>\n",
       "    </tr>\n",
       "    <tr>\n",
       "      <th>870357</th>\n",
       "      <td>100063173-SC</td>\n",
       "      <td>74 Boulevard Ornano S-N</td>\n",
       "      <td>100063173.0</td>\n",
       "      <td>74 Boulevard Ornano S-N</td>\n",
       "      <td>71.0</td>\n",
       "      <td>2020-11-18T16:00:00+01:00</td>\n",
       "      <td>2020-07-22</td>\n",
       "      <td>https://www.eco-visio.net/Photos/100063173/159...</td>\n",
       "      <td>48.896825,2.345648</td>\n",
       "    </tr>\n",
       "    <tr>\n",
       "      <th>870358</th>\n",
       "      <td>100063173-SC</td>\n",
       "      <td>74 Boulevard Ornano S-N</td>\n",
       "      <td>100063173.0</td>\n",
       "      <td>74 Boulevard Ornano S-N</td>\n",
       "      <td>42.0</td>\n",
       "      <td>2020-11-18T22:00:00+01:00</td>\n",
       "      <td>2020-07-22</td>\n",
       "      <td>https://www.eco-visio.net/Photos/100063173/159...</td>\n",
       "      <td>48.896825,2.345648</td>\n",
       "    </tr>\n",
       "  </tbody>\n",
       "</table>\n",
       "</div>"
      ],
      "text/plain": [
       "       Identifiant du compteur          Nom du compteur  \\\n",
       "870354            100063173-SC  74 Boulevard Ornano S-N   \n",
       "870355            100063173-SC  74 Boulevard Ornano S-N   \n",
       "870356            100063173-SC  74 Boulevard Ornano S-N   \n",
       "870357            100063173-SC  74 Boulevard Ornano S-N   \n",
       "870358            100063173-SC  74 Boulevard Ornano S-N   \n",
       "\n",
       "        Identifiant du site de comptage  Nom du site de comptage  \\\n",
       "870354                      100063173.0  74 Boulevard Ornano S-N   \n",
       "870355                      100063173.0  74 Boulevard Ornano S-N   \n",
       "870356                      100063173.0  74 Boulevard Ornano S-N   \n",
       "870357                      100063173.0  74 Boulevard Ornano S-N   \n",
       "870358                      100063173.0  74 Boulevard Ornano S-N   \n",
       "\n",
       "        Comptage horaire  Date et heure de comptage  \\\n",
       "870354              99.0  2020-11-18T07:00:00+01:00   \n",
       "870355              84.0  2020-11-18T10:00:00+01:00   \n",
       "870356             103.0  2020-11-18T15:00:00+01:00   \n",
       "870357              71.0  2020-11-18T16:00:00+01:00   \n",
       "870358              42.0  2020-11-18T22:00:00+01:00   \n",
       "\n",
       "       Date d'installation du site de comptage  \\\n",
       "870354                              2020-07-22   \n",
       "870355                              2020-07-22   \n",
       "870356                              2020-07-22   \n",
       "870357                              2020-07-22   \n",
       "870358                              2020-07-22   \n",
       "\n",
       "                      Lien vers photo du site de comptage  \\\n",
       "870354  https://www.eco-visio.net/Photos/100063173/159...   \n",
       "870355  https://www.eco-visio.net/Photos/100063173/159...   \n",
       "870356  https://www.eco-visio.net/Photos/100063173/159...   \n",
       "870357  https://www.eco-visio.net/Photos/100063173/159...   \n",
       "870358  https://www.eco-visio.net/Photos/100063173/159...   \n",
       "\n",
       "       CoordonnÃ©es gÃ©ographiques  \n",
       "870354          48.896825,2.345648  \n",
       "870355          48.896825,2.345648  \n",
       "870356          48.896825,2.345648  \n",
       "870357          48.896825,2.345648  \n",
       "870358          48.896825,2.345648  "
      ]
     },
     "execution_count": 131,
     "metadata": {},
     "output_type": "execute_result"
    }
   ],
   "source": [
    "compteur.tail()"
   ]
  },
  {
   "cell_type": "code",
   "execution_count": 132,
   "metadata": {},
   "outputs": [
    {
     "data": {
      "text/plain": [
       "(870359, 9)"
      ]
     },
     "execution_count": 132,
     "metadata": {},
     "output_type": "execute_result"
    }
   ],
   "source": [
    "compteur.shape"
   ]
  },
  {
   "cell_type": "markdown",
   "metadata": {},
   "source": [
    "### select right columns"
   ]
  },
  {
   "cell_type": "code",
   "execution_count": 133,
   "metadata": {},
   "outputs": [],
   "source": [
    "compteur=compteur[[\"Nom du compteur\",\"Comptage horaire\",\"Date et heure de comptage\",\"CoordonnÃ©es gÃ©ographiques\"]]"
   ]
  },
  {
   "cell_type": "code",
   "execution_count": 134,
   "metadata": {},
   "outputs": [
    {
     "data": {
      "text/html": [
       "<div>\n",
       "<style scoped>\n",
       "    .dataframe tbody tr th:only-of-type {\n",
       "        vertical-align: middle;\n",
       "    }\n",
       "\n",
       "    .dataframe tbody tr th {\n",
       "        vertical-align: top;\n",
       "    }\n",
       "\n",
       "    .dataframe thead th {\n",
       "        text-align: right;\n",
       "    }\n",
       "</style>\n",
       "<table border=\"1\" class=\"dataframe\">\n",
       "  <thead>\n",
       "    <tr style=\"text-align: right;\">\n",
       "      <th></th>\n",
       "      <th>Nom du compteur</th>\n",
       "      <th>Comptage horaire</th>\n",
       "      <th>Date et heure de comptage</th>\n",
       "      <th>CoordonnÃ©es gÃ©ographiques</th>\n",
       "    </tr>\n",
       "  </thead>\n",
       "  <tbody>\n",
       "    <tr>\n",
       "      <th>870354</th>\n",
       "      <td>74 Boulevard Ornano S-N</td>\n",
       "      <td>99.0</td>\n",
       "      <td>2020-11-18T07:00:00+01:00</td>\n",
       "      <td>48.896825,2.345648</td>\n",
       "    </tr>\n",
       "    <tr>\n",
       "      <th>870355</th>\n",
       "      <td>74 Boulevard Ornano S-N</td>\n",
       "      <td>84.0</td>\n",
       "      <td>2020-11-18T10:00:00+01:00</td>\n",
       "      <td>48.896825,2.345648</td>\n",
       "    </tr>\n",
       "    <tr>\n",
       "      <th>870356</th>\n",
       "      <td>74 Boulevard Ornano S-N</td>\n",
       "      <td>103.0</td>\n",
       "      <td>2020-11-18T15:00:00+01:00</td>\n",
       "      <td>48.896825,2.345648</td>\n",
       "    </tr>\n",
       "    <tr>\n",
       "      <th>870357</th>\n",
       "      <td>74 Boulevard Ornano S-N</td>\n",
       "      <td>71.0</td>\n",
       "      <td>2020-11-18T16:00:00+01:00</td>\n",
       "      <td>48.896825,2.345648</td>\n",
       "    </tr>\n",
       "    <tr>\n",
       "      <th>870358</th>\n",
       "      <td>74 Boulevard Ornano S-N</td>\n",
       "      <td>42.0</td>\n",
       "      <td>2020-11-18T22:00:00+01:00</td>\n",
       "      <td>48.896825,2.345648</td>\n",
       "    </tr>\n",
       "  </tbody>\n",
       "</table>\n",
       "</div>"
      ],
      "text/plain": [
       "                Nom du compteur  Comptage horaire  Date et heure de comptage  \\\n",
       "870354  74 Boulevard Ornano S-N              99.0  2020-11-18T07:00:00+01:00   \n",
       "870355  74 Boulevard Ornano S-N              84.0  2020-11-18T10:00:00+01:00   \n",
       "870356  74 Boulevard Ornano S-N             103.0  2020-11-18T15:00:00+01:00   \n",
       "870357  74 Boulevard Ornano S-N              71.0  2020-11-18T16:00:00+01:00   \n",
       "870358  74 Boulevard Ornano S-N              42.0  2020-11-18T22:00:00+01:00   \n",
       "\n",
       "       CoordonnÃ©es gÃ©ographiques  \n",
       "870354          48.896825,2.345648  \n",
       "870355          48.896825,2.345648  \n",
       "870356          48.896825,2.345648  \n",
       "870357          48.896825,2.345648  \n",
       "870358          48.896825,2.345648  "
      ]
     },
     "execution_count": 134,
     "metadata": {},
     "output_type": "execute_result"
    }
   ],
   "source": [
    "compteur.tail()"
   ]
  },
  {
   "cell_type": "markdown",
   "metadata": {},
   "source": [
    "### check if 2 columns are equals "
   ]
  },
  {
   "cell_type": "code",
   "execution_count": 109,
   "metadata": {},
   "outputs": [
    {
     "data": {
      "text/plain": [
       "(870359, 4)"
      ]
     },
     "execution_count": 109,
     "metadata": {},
     "output_type": "execute_result"
    }
   ],
   "source": [
    "compteur.shape"
   ]
  },
  {
   "cell_type": "markdown",
   "metadata": {},
   "source": [
    "###  drop null value from value"
   ]
  },
  {
   "cell_type": "code",
   "execution_count": 137,
   "metadata": {},
   "outputs": [
    {
     "data": {
      "text/plain": [
       "Nom du compteur                    0\n",
       "Comptage horaire                   0\n",
       "Date et heure de comptage          0\n",
       "CoordonnÃ©es gÃ©ographiques    37039\n",
       "dtype: int64"
      ]
     },
     "execution_count": 137,
     "metadata": {},
     "output_type": "execute_result"
    }
   ],
   "source": [
    "#print(compteur[compteur.isnull()])\n",
    "compteur=compteur.dropna(subset=[\"Comptage horaire\"])\n",
    "compteur.isnull().sum()\n"
   ]
  },
  {
   "cell_type": "code",
   "execution_count": 111,
   "metadata": {},
   "outputs": [
    {
     "data": {
      "text/plain": [
       "(870359, 4)"
      ]
     },
     "execution_count": 111,
     "metadata": {},
     "output_type": "execute_result"
    }
   ],
   "source": [
    "compteur.shape"
   ]
  },
  {
   "cell_type": "markdown",
   "metadata": {},
   "source": [
    "### rename columns"
   ]
  },
  {
   "cell_type": "code",
   "execution_count": 138,
   "metadata": {},
   "outputs": [],
   "source": [
    "compteur.columns=['address','traffic',\"date\",\"gps\"]"
   ]
  },
  {
   "cell_type": "code",
   "execution_count": 139,
   "metadata": {},
   "outputs": [
    {
     "data": {
      "text/html": [
       "<div>\n",
       "<style scoped>\n",
       "    .dataframe tbody tr th:only-of-type {\n",
       "        vertical-align: middle;\n",
       "    }\n",
       "\n",
       "    .dataframe tbody tr th {\n",
       "        vertical-align: top;\n",
       "    }\n",
       "\n",
       "    .dataframe thead th {\n",
       "        text-align: right;\n",
       "    }\n",
       "</style>\n",
       "<table border=\"1\" class=\"dataframe\">\n",
       "  <thead>\n",
       "    <tr style=\"text-align: right;\">\n",
       "      <th></th>\n",
       "      <th>address</th>\n",
       "      <th>traffic</th>\n",
       "      <th>date</th>\n",
       "      <th>gps</th>\n",
       "    </tr>\n",
       "  </thead>\n",
       "  <tbody>\n",
       "    <tr>\n",
       "      <th>870354</th>\n",
       "      <td>74 Boulevard Ornano S-N</td>\n",
       "      <td>99.0</td>\n",
       "      <td>2020-11-18T07:00:00+01:00</td>\n",
       "      <td>48.896825,2.345648</td>\n",
       "    </tr>\n",
       "    <tr>\n",
       "      <th>870355</th>\n",
       "      <td>74 Boulevard Ornano S-N</td>\n",
       "      <td>84.0</td>\n",
       "      <td>2020-11-18T10:00:00+01:00</td>\n",
       "      <td>48.896825,2.345648</td>\n",
       "    </tr>\n",
       "    <tr>\n",
       "      <th>870356</th>\n",
       "      <td>74 Boulevard Ornano S-N</td>\n",
       "      <td>103.0</td>\n",
       "      <td>2020-11-18T15:00:00+01:00</td>\n",
       "      <td>48.896825,2.345648</td>\n",
       "    </tr>\n",
       "    <tr>\n",
       "      <th>870357</th>\n",
       "      <td>74 Boulevard Ornano S-N</td>\n",
       "      <td>71.0</td>\n",
       "      <td>2020-11-18T16:00:00+01:00</td>\n",
       "      <td>48.896825,2.345648</td>\n",
       "    </tr>\n",
       "    <tr>\n",
       "      <th>870358</th>\n",
       "      <td>74 Boulevard Ornano S-N</td>\n",
       "      <td>42.0</td>\n",
       "      <td>2020-11-18T22:00:00+01:00</td>\n",
       "      <td>48.896825,2.345648</td>\n",
       "    </tr>\n",
       "  </tbody>\n",
       "</table>\n",
       "</div>"
      ],
      "text/plain": [
       "                        address  traffic                       date  \\\n",
       "870354  74 Boulevard Ornano S-N     99.0  2020-11-18T07:00:00+01:00   \n",
       "870355  74 Boulevard Ornano S-N     84.0  2020-11-18T10:00:00+01:00   \n",
       "870356  74 Boulevard Ornano S-N    103.0  2020-11-18T15:00:00+01:00   \n",
       "870357  74 Boulevard Ornano S-N     71.0  2020-11-18T16:00:00+01:00   \n",
       "870358  74 Boulevard Ornano S-N     42.0  2020-11-18T22:00:00+01:00   \n",
       "\n",
       "                       gps  \n",
       "870354  48.896825,2.345648  \n",
       "870355  48.896825,2.345648  \n",
       "870356  48.896825,2.345648  \n",
       "870357  48.896825,2.345648  \n",
       "870358  48.896825,2.345648  "
      ]
     },
     "execution_count": 139,
     "metadata": {},
     "output_type": "execute_result"
    }
   ],
   "source": [
    "compteur.tail()"
   ]
  },
  {
   "cell_type": "markdown",
   "metadata": {},
   "source": [
    "### convert trafic type in int"
   ]
  },
  {
   "cell_type": "code",
   "execution_count": 140,
   "metadata": {},
   "outputs": [],
   "source": [
    "compteur[\"traffic\"]=compteur[\"traffic\"].apply(lambda x:int(x))"
   ]
  },
  {
   "cell_type": "code",
   "execution_count": 141,
   "metadata": {},
   "outputs": [
    {
     "data": {
      "text/html": [
       "<div>\n",
       "<style scoped>\n",
       "    .dataframe tbody tr th:only-of-type {\n",
       "        vertical-align: middle;\n",
       "    }\n",
       "\n",
       "    .dataframe tbody tr th {\n",
       "        vertical-align: top;\n",
       "    }\n",
       "\n",
       "    .dataframe thead th {\n",
       "        text-align: right;\n",
       "    }\n",
       "</style>\n",
       "<table border=\"1\" class=\"dataframe\">\n",
       "  <thead>\n",
       "    <tr style=\"text-align: right;\">\n",
       "      <th></th>\n",
       "      <th>address</th>\n",
       "      <th>traffic</th>\n",
       "      <th>date</th>\n",
       "      <th>gps</th>\n",
       "    </tr>\n",
       "  </thead>\n",
       "  <tbody>\n",
       "    <tr>\n",
       "      <th>870354</th>\n",
       "      <td>74 Boulevard Ornano S-N</td>\n",
       "      <td>99</td>\n",
       "      <td>2020-11-18T07:00:00+01:00</td>\n",
       "      <td>48.896825,2.345648</td>\n",
       "    </tr>\n",
       "    <tr>\n",
       "      <th>870355</th>\n",
       "      <td>74 Boulevard Ornano S-N</td>\n",
       "      <td>84</td>\n",
       "      <td>2020-11-18T10:00:00+01:00</td>\n",
       "      <td>48.896825,2.345648</td>\n",
       "    </tr>\n",
       "    <tr>\n",
       "      <th>870356</th>\n",
       "      <td>74 Boulevard Ornano S-N</td>\n",
       "      <td>103</td>\n",
       "      <td>2020-11-18T15:00:00+01:00</td>\n",
       "      <td>48.896825,2.345648</td>\n",
       "    </tr>\n",
       "    <tr>\n",
       "      <th>870357</th>\n",
       "      <td>74 Boulevard Ornano S-N</td>\n",
       "      <td>71</td>\n",
       "      <td>2020-11-18T16:00:00+01:00</td>\n",
       "      <td>48.896825,2.345648</td>\n",
       "    </tr>\n",
       "    <tr>\n",
       "      <th>870358</th>\n",
       "      <td>74 Boulevard Ornano S-N</td>\n",
       "      <td>42</td>\n",
       "      <td>2020-11-18T22:00:00+01:00</td>\n",
       "      <td>48.896825,2.345648</td>\n",
       "    </tr>\n",
       "  </tbody>\n",
       "</table>\n",
       "</div>"
      ],
      "text/plain": [
       "                        address  traffic                       date  \\\n",
       "870354  74 Boulevard Ornano S-N       99  2020-11-18T07:00:00+01:00   \n",
       "870355  74 Boulevard Ornano S-N       84  2020-11-18T10:00:00+01:00   \n",
       "870356  74 Boulevard Ornano S-N      103  2020-11-18T15:00:00+01:00   \n",
       "870357  74 Boulevard Ornano S-N       71  2020-11-18T16:00:00+01:00   \n",
       "870358  74 Boulevard Ornano S-N       42  2020-11-18T22:00:00+01:00   \n",
       "\n",
       "                       gps  \n",
       "870354  48.896825,2.345648  \n",
       "870355  48.896825,2.345648  \n",
       "870356  48.896825,2.345648  \n",
       "870357  48.896825,2.345648  \n",
       "870358  48.896825,2.345648  "
      ]
     },
     "execution_count": 141,
     "metadata": {},
     "output_type": "execute_result"
    }
   ],
   "source": [
    "compteur.tail()"
   ]
  },
  {
   "cell_type": "markdown",
   "metadata": {},
   "source": [
    "### convert type columns gps to str for apply extraction"
   ]
  },
  {
   "cell_type": "code",
   "execution_count": 144,
   "metadata": {},
   "outputs": [],
   "source": [
    "compteur[\"gps\"]=compteur[\"gps\"].apply(lambda x:str(x))"
   ]
  },
  {
   "cell_type": "code",
   "execution_count": 142,
   "metadata": {},
   "outputs": [
    {
     "data": {
      "text/plain": [
       "48.83436,2.377        19913\n",
       "48.840801,2.333233    19913\n",
       "48.846028,2.375429    19913\n",
       "48.82636,2.30303      19912\n",
       "48.891415,2.384954    19912\n",
       "                      ...  \n",
       "48.851525,2.343298     4389\n",
       "48.89696,2.34538       2877\n",
       "48.896825,2.345648     2877\n",
       "48.84638,2.31529       2642\n",
       "48.87746,2.35008        146\n",
       "Name: gps, Length: 69, dtype: int64"
      ]
     },
     "execution_count": 142,
     "metadata": {},
     "output_type": "execute_result"
    }
   ],
   "source": [
    "compteur[\"gps\"].value_counts()"
   ]
  },
  {
   "cell_type": "markdown",
   "metadata": {},
   "source": [
    "### extract x,y from GPS "
   ]
  },
  {
   "cell_type": "code",
   "execution_count": 159,
   "metadata": {},
   "outputs": [],
   "source": [
    "\n",
    "compteur=compteur.dropna(subset=[\"gps\"])\n"
   ]
  },
  {
   "cell_type": "code",
   "execution_count": 177,
   "metadata": {},
   "outputs": [],
   "source": [
    "compteur[\"gps_x\"]=compteur[\"gps\"].apply(lambda x:x.split(\",\")[0])\n",
    "compteur[\"gps_y\"]=compteur[\"gps\"].apply(lambda x:x.split(\",\")[-1])"
   ]
  },
  {
   "cell_type": "code",
   "execution_count": 178,
   "metadata": {},
   "outputs": [
    {
     "data": {
      "text/html": [
       "<div>\n",
       "<style scoped>\n",
       "    .dataframe tbody tr th:only-of-type {\n",
       "        vertical-align: middle;\n",
       "    }\n",
       "\n",
       "    .dataframe tbody tr th {\n",
       "        vertical-align: top;\n",
       "    }\n",
       "\n",
       "    .dataframe thead th {\n",
       "        text-align: right;\n",
       "    }\n",
       "</style>\n",
       "<table border=\"1\" class=\"dataframe\">\n",
       "  <thead>\n",
       "    <tr style=\"text-align: right;\">\n",
       "      <th></th>\n",
       "      <th>address</th>\n",
       "      <th>traffic</th>\n",
       "      <th>date</th>\n",
       "      <th>gps</th>\n",
       "      <th>gps_x</th>\n",
       "      <th>gps_y</th>\n",
       "    </tr>\n",
       "  </thead>\n",
       "  <tbody>\n",
       "    <tr>\n",
       "      <th>870354</th>\n",
       "      <td>74 Boulevard Ornano S-N</td>\n",
       "      <td>99</td>\n",
       "      <td>2020-11-18T07:00:00+01:00</td>\n",
       "      <td>48.896825,2.345648</td>\n",
       "      <td>48.896825</td>\n",
       "      <td>2.345648</td>\n",
       "    </tr>\n",
       "    <tr>\n",
       "      <th>870355</th>\n",
       "      <td>74 Boulevard Ornano S-N</td>\n",
       "      <td>84</td>\n",
       "      <td>2020-11-18T10:00:00+01:00</td>\n",
       "      <td>48.896825,2.345648</td>\n",
       "      <td>48.896825</td>\n",
       "      <td>2.345648</td>\n",
       "    </tr>\n",
       "    <tr>\n",
       "      <th>870356</th>\n",
       "      <td>74 Boulevard Ornano S-N</td>\n",
       "      <td>103</td>\n",
       "      <td>2020-11-18T15:00:00+01:00</td>\n",
       "      <td>48.896825,2.345648</td>\n",
       "      <td>48.896825</td>\n",
       "      <td>2.345648</td>\n",
       "    </tr>\n",
       "    <tr>\n",
       "      <th>870357</th>\n",
       "      <td>74 Boulevard Ornano S-N</td>\n",
       "      <td>71</td>\n",
       "      <td>2020-11-18T16:00:00+01:00</td>\n",
       "      <td>48.896825,2.345648</td>\n",
       "      <td>48.896825</td>\n",
       "      <td>2.345648</td>\n",
       "    </tr>\n",
       "    <tr>\n",
       "      <th>870358</th>\n",
       "      <td>74 Boulevard Ornano S-N</td>\n",
       "      <td>42</td>\n",
       "      <td>2020-11-18T22:00:00+01:00</td>\n",
       "      <td>48.896825,2.345648</td>\n",
       "      <td>48.896825</td>\n",
       "      <td>2.345648</td>\n",
       "    </tr>\n",
       "  </tbody>\n",
       "</table>\n",
       "</div>"
      ],
      "text/plain": [
       "                        address  traffic                       date  \\\n",
       "870354  74 Boulevard Ornano S-N       99  2020-11-18T07:00:00+01:00   \n",
       "870355  74 Boulevard Ornano S-N       84  2020-11-18T10:00:00+01:00   \n",
       "870356  74 Boulevard Ornano S-N      103  2020-11-18T15:00:00+01:00   \n",
       "870357  74 Boulevard Ornano S-N       71  2020-11-18T16:00:00+01:00   \n",
       "870358  74 Boulevard Ornano S-N       42  2020-11-18T22:00:00+01:00   \n",
       "\n",
       "                       gps      gps_x     gps_y  \n",
       "870354  48.896825,2.345648  48.896825  2.345648  \n",
       "870355  48.896825,2.345648  48.896825  2.345648  \n",
       "870356  48.896825,2.345648  48.896825  2.345648  \n",
       "870357  48.896825,2.345648  48.896825  2.345648  \n",
       "870358  48.896825,2.345648  48.896825  2.345648  "
      ]
     },
     "execution_count": 178,
     "metadata": {},
     "output_type": "execute_result"
    }
   ],
   "source": [
    "compteur.tail()"
   ]
  },
  {
   "cell_type": "markdown",
   "metadata": {},
   "source": [
    "### Extract date & hour"
   ]
  },
  {
   "cell_type": "code",
   "execution_count": 179,
   "metadata": {},
   "outputs": [],
   "source": [
    "compteur[\"hour\"]=compteur[\"date\"].apply(lambda x:x.split(\"T\")[1])"
   ]
  },
  {
   "cell_type": "code",
   "execution_count": 180,
   "metadata": {},
   "outputs": [],
   "source": [
    "compteur[\"date\"]=compteur[\"date\"].apply(lambda x:x.split(\"T\")[0])"
   ]
  },
  {
   "cell_type": "code",
   "execution_count": 182,
   "metadata": {},
   "outputs": [],
   "source": [
    "compteur[\"hour\"]=compteur[\"hour\"].apply(lambda x:x.split(\"+\")[0])"
   ]
  },
  {
   "cell_type": "code",
   "execution_count": 183,
   "metadata": {},
   "outputs": [],
   "source": [
    "compteur['date']=pd.to_datetime(compteur['date'].astype(str), format='%Y/%m/%d')"
   ]
  },
  {
   "cell_type": "markdown",
   "metadata": {},
   "source": [
    "### exemple final dataset traffic"
   ]
  },
  {
   "cell_type": "code",
   "execution_count": 184,
   "metadata": {},
   "outputs": [
    {
     "data": {
      "text/html": [
       "<div>\n",
       "<style scoped>\n",
       "    .dataframe tbody tr th:only-of-type {\n",
       "        vertical-align: middle;\n",
       "    }\n",
       "\n",
       "    .dataframe tbody tr th {\n",
       "        vertical-align: top;\n",
       "    }\n",
       "\n",
       "    .dataframe thead th {\n",
       "        text-align: right;\n",
       "    }\n",
       "</style>\n",
       "<table border=\"1\" class=\"dataframe\">\n",
       "  <thead>\n",
       "    <tr style=\"text-align: right;\">\n",
       "      <th></th>\n",
       "      <th>address</th>\n",
       "      <th>traffic</th>\n",
       "      <th>date</th>\n",
       "      <th>gps</th>\n",
       "      <th>gps_x</th>\n",
       "      <th>gps_y</th>\n",
       "      <th>hour</th>\n",
       "    </tr>\n",
       "  </thead>\n",
       "  <tbody>\n",
       "    <tr>\n",
       "      <th>870354</th>\n",
       "      <td>74 Boulevard Ornano S-N</td>\n",
       "      <td>99</td>\n",
       "      <td>2020-11-18</td>\n",
       "      <td>48.896825,2.345648</td>\n",
       "      <td>48.896825</td>\n",
       "      <td>2.345648</td>\n",
       "      <td>07:00:00</td>\n",
       "    </tr>\n",
       "    <tr>\n",
       "      <th>870355</th>\n",
       "      <td>74 Boulevard Ornano S-N</td>\n",
       "      <td>84</td>\n",
       "      <td>2020-11-18</td>\n",
       "      <td>48.896825,2.345648</td>\n",
       "      <td>48.896825</td>\n",
       "      <td>2.345648</td>\n",
       "      <td>10:00:00</td>\n",
       "    </tr>\n",
       "    <tr>\n",
       "      <th>870356</th>\n",
       "      <td>74 Boulevard Ornano S-N</td>\n",
       "      <td>103</td>\n",
       "      <td>2020-11-18</td>\n",
       "      <td>48.896825,2.345648</td>\n",
       "      <td>48.896825</td>\n",
       "      <td>2.345648</td>\n",
       "      <td>15:00:00</td>\n",
       "    </tr>\n",
       "    <tr>\n",
       "      <th>870357</th>\n",
       "      <td>74 Boulevard Ornano S-N</td>\n",
       "      <td>71</td>\n",
       "      <td>2020-11-18</td>\n",
       "      <td>48.896825,2.345648</td>\n",
       "      <td>48.896825</td>\n",
       "      <td>2.345648</td>\n",
       "      <td>16:00:00</td>\n",
       "    </tr>\n",
       "    <tr>\n",
       "      <th>870358</th>\n",
       "      <td>74 Boulevard Ornano S-N</td>\n",
       "      <td>42</td>\n",
       "      <td>2020-11-18</td>\n",
       "      <td>48.896825,2.345648</td>\n",
       "      <td>48.896825</td>\n",
       "      <td>2.345648</td>\n",
       "      <td>22:00:00</td>\n",
       "    </tr>\n",
       "  </tbody>\n",
       "</table>\n",
       "</div>"
      ],
      "text/plain": [
       "                        address  traffic       date                 gps  \\\n",
       "870354  74 Boulevard Ornano S-N       99 2020-11-18  48.896825,2.345648   \n",
       "870355  74 Boulevard Ornano S-N       84 2020-11-18  48.896825,2.345648   \n",
       "870356  74 Boulevard Ornano S-N      103 2020-11-18  48.896825,2.345648   \n",
       "870357  74 Boulevard Ornano S-N       71 2020-11-18  48.896825,2.345648   \n",
       "870358  74 Boulevard Ornano S-N       42 2020-11-18  48.896825,2.345648   \n",
       "\n",
       "            gps_x     gps_y      hour  \n",
       "870354  48.896825  2.345648  07:00:00  \n",
       "870355  48.896825  2.345648  10:00:00  \n",
       "870356  48.896825  2.345648  15:00:00  \n",
       "870357  48.896825  2.345648  16:00:00  \n",
       "870358  48.896825  2.345648  22:00:00  "
      ]
     },
     "execution_count": 184,
     "metadata": {},
     "output_type": "execute_result"
    }
   ],
   "source": [
    "compteur.tail()"
   ]
  },
  {
   "cell_type": "code",
   "execution_count": 185,
   "metadata": {},
   "outputs": [
    {
     "data": {
      "text/plain": [
       "Timestamp('2020-11-18 00:00:00')"
      ]
     },
     "execution_count": 185,
     "metadata": {},
     "output_type": "execute_result"
    }
   ],
   "source": [
    "compteur[\"date\"].max()"
   ]
  },
  {
   "cell_type": "code",
   "execution_count": 186,
   "metadata": {},
   "outputs": [
    {
     "data": {
      "text/plain": [
       "Timestamp('2019-10-01 00:00:00')"
      ]
     },
     "execution_count": 186,
     "metadata": {},
     "output_type": "execute_result"
    }
   ],
   "source": [
    "compteur[\"date\"].min()"
   ]
  },
  {
   "cell_type": "code",
   "execution_count": 187,
   "metadata": {},
   "outputs": [],
   "source": [
    "compteur.to_csv(\"C:/Users/Administrateur/Documents/bike_project/traffic.csv\", sep=\";\", encoding=\"utf-8\")"
   ]
  },
  {
   "cell_type": "code",
   "execution_count": null,
   "metadata": {},
   "outputs": [],
   "source": []
  }
 ],
 "metadata": {
  "kernelspec": {
   "display_name": "Python 3",
   "language": "python",
   "name": "python3"
  },
  "language_info": {
   "codemirror_mode": {
    "name": "ipython",
    "version": 3
   },
   "file_extension": ".py",
   "mimetype": "text/x-python",
   "name": "python",
   "nbconvert_exporter": "python",
   "pygments_lexer": "ipython3",
   "version": "3.8.3"
  }
 },
 "nbformat": 4,
 "nbformat_minor": 4
}
